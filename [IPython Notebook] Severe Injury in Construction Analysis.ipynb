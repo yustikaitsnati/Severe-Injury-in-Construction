{
 "cells": [
  {
   "cell_type": "markdown",
   "id": "551dd445",
   "metadata": {},
   "source": [
    "# Severe Injury in Construction Analysis"
   ]
  },
  {
   "cell_type": "markdown",
   "id": "52abf11e",
   "metadata": {},
   "source": [
    "Dataset from OSHA (https://www.osha.gov/severeinjury)\n",
    "\n",
    "Problem:\n",
    "\n",
    "Construction is a labor-intensive industry. Because of its complex activities, working in the construction industry is a high-risk job.\n",
    "\n",
    "1. Construction is an industry with the second-highest number of work-related injury with 10% hospitalization and 19% amputation\n",
    "2. Construction has the highest number of fatality cases\n",
    "3. 5 of 10 most frequently violated OSHA standards in fiscal year 2021 is from construction industry\n",
    "4. Most work-related injuries are preventable\n",
    "5. $7.87 Billion: the cost of workers’ compensation direct costs from the top five injury causes in construction in 2020\n",
    "6. 40% construction injuries result in days away from work (DAFW)\n",
    "\n",
    "Objective:\n",
    "\n",
    "1. Define the most common hazard and the most common event and source of the hazard\n",
    "2. Giving recommendations for company to take proactive measures to prevent the hazard/event so the company can lower DAFW and costs"
   ]
  },
  {
   "cell_type": "markdown",
   "id": "059929ee",
   "metadata": {},
   "source": [
    "# Install and Import Libraries"
   ]
  },
  {
   "cell_type": "code",
   "execution_count": 1,
   "id": "dd9acfd9",
   "metadata": {},
   "outputs": [
    {
     "name": "stdout",
     "output_type": "stream",
     "text": [
      "Requirement already satisfied: SQLAlchemy==1.4.46 in d:\\lain\\anaconda3\\lib\\site-packages (1.4.46)\n",
      "Requirement already satisfied: greenlet!=0.4.17 in d:\\lain\\anaconda3\\lib\\site-packages (from SQLAlchemy==1.4.46) (1.1.1)\n"
     ]
    }
   ],
   "source": [
    "!pip install SQLAlchemy==1.4.46"
   ]
  },
  {
   "cell_type": "code",
   "execution_count": 2,
   "id": "5ba0334d",
   "metadata": {},
   "outputs": [],
   "source": [
    "import pandas as pd\n",
    "import numpy as np\n",
    "\n",
    "import matplotlib.pyplot as plt\n",
    "import seaborn as sns\n",
    "\n",
    "from pandasql import sqldf\n",
    "\n",
    "import warnings\n",
    "warnings.filterwarnings(\"ignore\")\n",
    "warnings.simplefilter(action = \"ignore\", category = FutureWarning)"
   ]
  },
  {
   "cell_type": "markdown",
   "id": "6a6e5b02",
   "metadata": {},
   "source": [
    "# Import Dataset"
   ]
  },
  {
   "cell_type": "code",
   "execution_count": 3,
   "id": "f7cde9e6",
   "metadata": {},
   "outputs": [
    {
     "data": {
      "text/html": [
       "<div>\n",
       "<style scoped>\n",
       "    .dataframe tbody tr th:only-of-type {\n",
       "        vertical-align: middle;\n",
       "    }\n",
       "\n",
       "    .dataframe tbody tr th {\n",
       "        vertical-align: top;\n",
       "    }\n",
       "\n",
       "    .dataframe thead th {\n",
       "        text-align: right;\n",
       "    }\n",
       "</style>\n",
       "<table border=\"1\" class=\"dataframe\">\n",
       "  <thead>\n",
       "    <tr style=\"text-align: right;\">\n",
       "      <th></th>\n",
       "      <th>ID</th>\n",
       "      <th>UPA</th>\n",
       "      <th>EventDate</th>\n",
       "      <th>Employer</th>\n",
       "      <th>Address1</th>\n",
       "      <th>Address2</th>\n",
       "      <th>City</th>\n",
       "      <th>State</th>\n",
       "      <th>Zip</th>\n",
       "      <th>Latitude</th>\n",
       "      <th>...</th>\n",
       "      <th>Nature</th>\n",
       "      <th>NatureTitle</th>\n",
       "      <th>Part of Body</th>\n",
       "      <th>Part of Body Title</th>\n",
       "      <th>Event</th>\n",
       "      <th>EventTitle</th>\n",
       "      <th>Source</th>\n",
       "      <th>SourceTitle</th>\n",
       "      <th>Secondary Source</th>\n",
       "      <th>Secondary Source Title</th>\n",
       "    </tr>\n",
       "  </thead>\n",
       "  <tbody>\n",
       "    <tr>\n",
       "      <th>0</th>\n",
       "      <td>2015010015</td>\n",
       "      <td>931176</td>\n",
       "      <td>1/1/2015</td>\n",
       "      <td>FCI Otisville Federal Correctional Institution</td>\n",
       "      <td>Two Mile Drive</td>\n",
       "      <td>NaN</td>\n",
       "      <td>OTISVILLE</td>\n",
       "      <td>NEW YORK</td>\n",
       "      <td>10963.0</td>\n",
       "      <td>41.46</td>\n",
       "      <td>...</td>\n",
       "      <td>111</td>\n",
       "      <td>Fractures</td>\n",
       "      <td>513</td>\n",
       "      <td>Lower leg(s)</td>\n",
       "      <td>1214</td>\n",
       "      <td>Injured by physical contact with person while ...</td>\n",
       "      <td>5721</td>\n",
       "      <td>Co-worker</td>\n",
       "      <td>5772.0</td>\n",
       "      <td>Inmate or detainee in custody</td>\n",
       "    </tr>\n",
       "    <tr>\n",
       "      <th>1</th>\n",
       "      <td>2015010016</td>\n",
       "      <td>930267</td>\n",
       "      <td>1/1/2015</td>\n",
       "      <td>Kalahari Manufacturing LLC</td>\n",
       "      <td>171 Progress Drive</td>\n",
       "      <td>NaN</td>\n",
       "      <td>LAKE DELTON</td>\n",
       "      <td>WISCONSIN</td>\n",
       "      <td>53940.0</td>\n",
       "      <td>43.59</td>\n",
       "      <td>...</td>\n",
       "      <td>1522</td>\n",
       "      <td>Second degree heat (thermal) burns</td>\n",
       "      <td>519</td>\n",
       "      <td>Leg(s), n.e.c.</td>\n",
       "      <td>317</td>\n",
       "      <td>Ignition of vapors, gases, or liquids</td>\n",
       "      <td>7261</td>\n",
       "      <td>Welding, cutting, and blow torches</td>\n",
       "      <td>NaN</td>\n",
       "      <td>NaN</td>\n",
       "    </tr>\n",
       "    <tr>\n",
       "      <th>2</th>\n",
       "      <td>2015010018</td>\n",
       "      <td>929823</td>\n",
       "      <td>1/1/2015</td>\n",
       "      <td>Schneider National Bulk Carrier</td>\n",
       "      <td>420 CORAOPOLIS ROAD</td>\n",
       "      <td>NaN</td>\n",
       "      <td>CORAOPOLIS</td>\n",
       "      <td>PENNSYLVANIA</td>\n",
       "      <td>15108.0</td>\n",
       "      <td>40.49</td>\n",
       "      <td>...</td>\n",
       "      <td>10</td>\n",
       "      <td>Traumatic injuries and disorders, unspecified</td>\n",
       "      <td>9999</td>\n",
       "      <td>Nonclassifiable</td>\n",
       "      <td>4331</td>\n",
       "      <td>Other fall to lower level less than 6 feet</td>\n",
       "      <td>8421</td>\n",
       "      <td>Semi, tractor-trailer, tanker truck</td>\n",
       "      <td>741.0</td>\n",
       "      <td>Ladders-fixed</td>\n",
       "    </tr>\n",
       "    <tr>\n",
       "      <th>3</th>\n",
       "      <td>2015010019</td>\n",
       "      <td>929711</td>\n",
       "      <td>1/1/2015</td>\n",
       "      <td>PEPSI BOTTLING GROUP INC.</td>\n",
       "      <td>4541 HOUSTON AVE.</td>\n",
       "      <td>NaN</td>\n",
       "      <td>MACON</td>\n",
       "      <td>GEORGIA</td>\n",
       "      <td>31206.0</td>\n",
       "      <td>32.77</td>\n",
       "      <td>...</td>\n",
       "      <td>1972</td>\n",
       "      <td>Soreness, pain, hurt-nonspecified injury</td>\n",
       "      <td>510</td>\n",
       "      <td>Leg(s), unspecified</td>\n",
       "      <td>640</td>\n",
       "      <td>Caught in or compressed by equipment or object...</td>\n",
       "      <td>8623</td>\n",
       "      <td>Pallet jack-powered</td>\n",
       "      <td>8420.0</td>\n",
       "      <td>Truck-motorized freight hauling and utility, u...</td>\n",
       "    </tr>\n",
       "    <tr>\n",
       "      <th>4</th>\n",
       "      <td>2015010020</td>\n",
       "      <td>929642</td>\n",
       "      <td>1/1/2015</td>\n",
       "      <td>North American Pipe Corporation</td>\n",
       "      <td>210 South Arch Street</td>\n",
       "      <td>NaN</td>\n",
       "      <td>JANESVILLE</td>\n",
       "      <td>WISCONSIN</td>\n",
       "      <td>53545.0</td>\n",
       "      <td>42.67</td>\n",
       "      <td>...</td>\n",
       "      <td>111</td>\n",
       "      <td>Fractures</td>\n",
       "      <td>4429</td>\n",
       "      <td>Finger(s), fingernail(s), n.e.c.</td>\n",
       "      <td>6411</td>\n",
       "      <td>Caught in running equipment or machinery durin...</td>\n",
       "      <td>350</td>\n",
       "      <td>Metal, woodworking, and special material machi...</td>\n",
       "      <td>NaN</td>\n",
       "      <td>NaN</td>\n",
       "    </tr>\n",
       "  </tbody>\n",
       "</table>\n",
       "<p>5 rows × 26 columns</p>\n",
       "</div>"
      ],
      "text/plain": [
       "           ID     UPA EventDate  \\\n",
       "0  2015010015  931176  1/1/2015   \n",
       "1  2015010016  930267  1/1/2015   \n",
       "2  2015010018  929823  1/1/2015   \n",
       "3  2015010019  929711  1/1/2015   \n",
       "4  2015010020  929642  1/1/2015   \n",
       "\n",
       "                                         Employer               Address1  \\\n",
       "0  FCI Otisville Federal Correctional Institution         Two Mile Drive   \n",
       "1                      Kalahari Manufacturing LLC     171 Progress Drive   \n",
       "2                 Schneider National Bulk Carrier    420 CORAOPOLIS ROAD   \n",
       "3                       PEPSI BOTTLING GROUP INC.      4541 HOUSTON AVE.   \n",
       "4                 North American Pipe Corporation  210 South Arch Street   \n",
       "\n",
       "  Address2         City         State      Zip  Latitude  ...  Nature  \\\n",
       "0      NaN    OTISVILLE      NEW YORK  10963.0     41.46  ...     111   \n",
       "1      NaN  LAKE DELTON     WISCONSIN  53940.0     43.59  ...    1522   \n",
       "2      NaN   CORAOPOLIS  PENNSYLVANIA  15108.0     40.49  ...      10   \n",
       "3      NaN        MACON       GEORGIA  31206.0     32.77  ...    1972   \n",
       "4      NaN   JANESVILLE     WISCONSIN  53545.0     42.67  ...     111   \n",
       "\n",
       "                                     NatureTitle  Part of Body  \\\n",
       "0                                      Fractures           513   \n",
       "1             Second degree heat (thermal) burns           519   \n",
       "2  Traumatic injuries and disorders, unspecified          9999   \n",
       "3       Soreness, pain, hurt-nonspecified injury           510   \n",
       "4                                      Fractures          4429   \n",
       "\n",
       "                 Part of Body Title  Event  \\\n",
       "0                      Lower leg(s)   1214   \n",
       "1                    Leg(s), n.e.c.    317   \n",
       "2                   Nonclassifiable   4331   \n",
       "3               Leg(s), unspecified    640   \n",
       "4  Finger(s), fingernail(s), n.e.c.   6411   \n",
       "\n",
       "                                          EventTitle  Source  \\\n",
       "0  Injured by physical contact with person while ...    5721   \n",
       "1              Ignition of vapors, gases, or liquids    7261   \n",
       "2         Other fall to lower level less than 6 feet    8421   \n",
       "3  Caught in or compressed by equipment or object...    8623   \n",
       "4  Caught in running equipment or machinery durin...     350   \n",
       "\n",
       "                                         SourceTitle  Secondary Source  \\\n",
       "0                                          Co-worker            5772.0   \n",
       "1                 Welding, cutting, and blow torches               NaN   \n",
       "2                Semi, tractor-trailer, tanker truck             741.0   \n",
       "3                                Pallet jack-powered            8420.0   \n",
       "4  Metal, woodworking, and special material machi...               NaN   \n",
       "\n",
       "                              Secondary Source Title  \n",
       "0                      Inmate or detainee in custody  \n",
       "1                                                NaN  \n",
       "2                                      Ladders-fixed  \n",
       "3  Truck-motorized freight hauling and utility, u...  \n",
       "4                                                NaN  \n",
       "\n",
       "[5 rows x 26 columns]"
      ]
     },
     "execution_count": 3,
     "metadata": {},
     "output_type": "execute_result"
    }
   ],
   "source": [
    "df = pd.read_csv('severe_injury.csv', encoding='cp1252')\n",
    "df.head()"
   ]
  },
  {
   "cell_type": "markdown",
   "id": "b1d4f80e",
   "metadata": {},
   "source": [
    "# Preliminary Look"
   ]
  },
  {
   "cell_type": "markdown",
   "id": "5804cdfd",
   "metadata": {},
   "source": [
    "## Sample of Data"
   ]
  },
  {
   "cell_type": "code",
   "execution_count": 4,
   "id": "1b7f9444",
   "metadata": {},
   "outputs": [
    {
     "data": {
      "text/html": [
       "<div>\n",
       "<style scoped>\n",
       "    .dataframe tbody tr th:only-of-type {\n",
       "        vertical-align: middle;\n",
       "    }\n",
       "\n",
       "    .dataframe tbody tr th {\n",
       "        vertical-align: top;\n",
       "    }\n",
       "\n",
       "    .dataframe thead th {\n",
       "        text-align: right;\n",
       "    }\n",
       "</style>\n",
       "<table border=\"1\" class=\"dataframe\">\n",
       "  <thead>\n",
       "    <tr style=\"text-align: right;\">\n",
       "      <th></th>\n",
       "      <th>74145</th>\n",
       "      <th>16302</th>\n",
       "      <th>63543</th>\n",
       "      <th>62113</th>\n",
       "      <th>52859</th>\n",
       "    </tr>\n",
       "  </thead>\n",
       "  <tbody>\n",
       "    <tr>\n",
       "      <th>ID</th>\n",
       "      <td>2022064855</td>\n",
       "      <td>2016087845</td>\n",
       "      <td>2021032524</td>\n",
       "      <td>2021010782</td>\n",
       "      <td>2020010288</td>\n",
       "    </tr>\n",
       "    <tr>\n",
       "      <th>UPA</th>\n",
       "      <td>1904504</td>\n",
       "      <td>1127328</td>\n",
       "      <td>1750067</td>\n",
       "      <td>1727196</td>\n",
       "      <td>1533211</td>\n",
       "    </tr>\n",
       "    <tr>\n",
       "      <th>EventDate</th>\n",
       "      <td>6/6/2022</td>\n",
       "      <td>8/21/2016</td>\n",
       "      <td>3/25/2021</td>\n",
       "      <td>1/28/2021</td>\n",
       "      <td>1/10/2020</td>\n",
       "    </tr>\n",
       "    <tr>\n",
       "      <th>Employer</th>\n",
       "      <td>National Material Processing, LLC</td>\n",
       "      <td>U.S. POSTAL SERVICE</td>\n",
       "      <td>Manitowoc Tool &amp; Machining, LLC</td>\n",
       "      <td>Carvana, LLC</td>\n",
       "      <td>DEWITT COMPANY</td>\n",
       "    </tr>\n",
       "    <tr>\n",
       "      <th>Address1</th>\n",
       "      <td>12100 S. Stoney Island</td>\n",
       "      <td>2310 Manard Jackson Parkway</td>\n",
       "      <td>4211 Clipper Drive</td>\n",
       "      <td>2150 NW 117th Place</td>\n",
       "      <td>905 SOUTH KINGSHIGHWAY</td>\n",
       "    </tr>\n",
       "    <tr>\n",
       "      <th>Address2</th>\n",
       "      <td>NaN</td>\n",
       "      <td>NaN</td>\n",
       "      <td>NaN</td>\n",
       "      <td>NaN</td>\n",
       "      <td>NaN</td>\n",
       "    </tr>\n",
       "    <tr>\n",
       "      <th>City</th>\n",
       "      <td>CHICAGO</td>\n",
       "      <td>ATLANTA</td>\n",
       "      <td>MANITOWOC</td>\n",
       "      <td>MIAMI</td>\n",
       "      <td>SIKESTON</td>\n",
       "    </tr>\n",
       "    <tr>\n",
       "      <th>State</th>\n",
       "      <td>IL</td>\n",
       "      <td>GEORGIA</td>\n",
       "      <td>WI</td>\n",
       "      <td>FL</td>\n",
       "      <td>MISSOURI</td>\n",
       "    </tr>\n",
       "    <tr>\n",
       "      <th>Zip</th>\n",
       "      <td>60633.0</td>\n",
       "      <td>30320.0</td>\n",
       "      <td>54220.0</td>\n",
       "      <td>33182.0</td>\n",
       "      <td>63801.0</td>\n",
       "    </tr>\n",
       "    <tr>\n",
       "      <th>Latitude</th>\n",
       "      <td>41.67</td>\n",
       "      <td>33.63</td>\n",
       "      <td>44.08</td>\n",
       "      <td>25.79</td>\n",
       "      <td>36.88</td>\n",
       "    </tr>\n",
       "    <tr>\n",
       "      <th>Longitude</th>\n",
       "      <td>-87.57</td>\n",
       "      <td>-84.43</td>\n",
       "      <td>-87.7</td>\n",
       "      <td>-80.38</td>\n",
       "      <td>-89.59</td>\n",
       "    </tr>\n",
       "    <tr>\n",
       "      <th>Primary NAICS</th>\n",
       "      <td>331110</td>\n",
       "      <td>491110</td>\n",
       "      <td>332710</td>\n",
       "      <td>441120</td>\n",
       "      <td>313312</td>\n",
       "    </tr>\n",
       "    <tr>\n",
       "      <th>Hospitalized</th>\n",
       "      <td>0.0</td>\n",
       "      <td>0.0</td>\n",
       "      <td>0.0</td>\n",
       "      <td>1.0</td>\n",
       "      <td>1.0</td>\n",
       "    </tr>\n",
       "    <tr>\n",
       "      <th>Amputation</th>\n",
       "      <td>1.0</td>\n",
       "      <td>1.0</td>\n",
       "      <td>1.0</td>\n",
       "      <td>0.0</td>\n",
       "      <td>0.0</td>\n",
       "    </tr>\n",
       "    <tr>\n",
       "      <th>Inspection</th>\n",
       "      <td>1601794.0</td>\n",
       "      <td>1173599.0</td>\n",
       "      <td>1522204.0</td>\n",
       "      <td>NaN</td>\n",
       "      <td>1456080.0</td>\n",
       "    </tr>\n",
       "    <tr>\n",
       "      <th>Final Narrative</th>\n",
       "      <td>An employee was feeding product into a slitter...</td>\n",
       "      <td>An employee was removing a guarding panel on a...</td>\n",
       "      <td>An employee was clamping an aluminum part into...</td>\n",
       "      <td>An employee reset a breaker after a power outa...</td>\n",
       "      <td>An employee was preparing the dock plate for a...</td>\n",
       "    </tr>\n",
       "    <tr>\n",
       "      <th>Nature</th>\n",
       "      <td>1311</td>\n",
       "      <td>1311</td>\n",
       "      <td>1311</td>\n",
       "      <td>193</td>\n",
       "      <td>111</td>\n",
       "    </tr>\n",
       "    <tr>\n",
       "      <th>NatureTitle</th>\n",
       "      <td>Amputations</td>\n",
       "      <td>Amputations</td>\n",
       "      <td>Amputations</td>\n",
       "      <td>Electrocutions, electric shocks</td>\n",
       "      <td>Fractures</td>\n",
       "    </tr>\n",
       "    <tr>\n",
       "      <th>Part of Body</th>\n",
       "      <td>4429</td>\n",
       "      <td>4422</td>\n",
       "      <td>4422</td>\n",
       "      <td>6</td>\n",
       "      <td>510</td>\n",
       "    </tr>\n",
       "    <tr>\n",
       "      <th>Part of Body Title</th>\n",
       "      <td>Finger(s), fingernail(s), n.e.c.</td>\n",
       "      <td>Fingertip(s)</td>\n",
       "      <td>Fingertip(s)</td>\n",
       "      <td>BODY SYSTEMS</td>\n",
       "      <td>Leg(s), unspecified</td>\n",
       "    </tr>\n",
       "    <tr>\n",
       "      <th>Event</th>\n",
       "      <td>6412</td>\n",
       "      <td>6233</td>\n",
       "      <td>6412</td>\n",
       "      <td>5110</td>\n",
       "      <td>6220</td>\n",
       "    </tr>\n",
       "    <tr>\n",
       "      <th>EventTitle</th>\n",
       "      <td>Caught in running equipment or machinery durin...</td>\n",
       "      <td>Struck by object falling from vehicle or machi...</td>\n",
       "      <td>Caught in running equipment or machinery durin...</td>\n",
       "      <td>Direct exposure to electricity, unspecified</td>\n",
       "      <td>Struck by rolling object or equipment-other th...</td>\n",
       "    </tr>\n",
       "    <tr>\n",
       "      <th>Source</th>\n",
       "      <td>3519</td>\n",
       "      <td>4429</td>\n",
       "      <td>3551</td>\n",
       "      <td>4417</td>\n",
       "      <td>2133</td>\n",
       "    </tr>\n",
       "    <tr>\n",
       "      <th>SourceTitle</th>\n",
       "      <td>Bending, rolling, shaping machinery, n.e.c.</td>\n",
       "      <td>Machine and appliance parts, n.e.c.</td>\n",
       "      <td>Metalworking lathes</td>\n",
       "      <td>Switchboards, switches, fuses</td>\n",
       "      <td>Reels, rolls, spools, coils, cones</td>\n",
       "    </tr>\n",
       "    <tr>\n",
       "      <th>Secondary Source</th>\n",
       "      <td>NaN</td>\n",
       "      <td>3421.0</td>\n",
       "      <td>NaN</td>\n",
       "      <td>NaN</td>\n",
       "      <td>NaN</td>\n",
       "    </tr>\n",
       "    <tr>\n",
       "      <th>Secondary Source Title</th>\n",
       "      <td>NaN</td>\n",
       "      <td>Conveyors-belt</td>\n",
       "      <td>NaN</td>\n",
       "      <td>NaN</td>\n",
       "      <td>NaN</td>\n",
       "    </tr>\n",
       "  </tbody>\n",
       "</table>\n",
       "</div>"
      ],
      "text/plain": [
       "                                                                    74145  \\\n",
       "ID                                                             2022064855   \n",
       "UPA                                                               1904504   \n",
       "EventDate                                                        6/6/2022   \n",
       "Employer                                National Material Processing, LLC   \n",
       "Address1                                           12100 S. Stoney Island   \n",
       "Address2                                                              NaN   \n",
       "City                                                              CHICAGO   \n",
       "State                                                                  IL   \n",
       "Zip                                                               60633.0   \n",
       "Latitude                                                            41.67   \n",
       "Longitude                                                          -87.57   \n",
       "Primary NAICS                                                      331110   \n",
       "Hospitalized                                                          0.0   \n",
       "Amputation                                                            1.0   \n",
       "Inspection                                                      1601794.0   \n",
       "Final Narrative         An employee was feeding product into a slitter...   \n",
       "Nature                                                               1311   \n",
       "NatureTitle                                                   Amputations   \n",
       "Part of Body                                                         4429   \n",
       "Part of Body Title                       Finger(s), fingernail(s), n.e.c.   \n",
       "Event                                                                6412   \n",
       "EventTitle              Caught in running equipment or machinery durin...   \n",
       "Source                                                               3519   \n",
       "SourceTitle                   Bending, rolling, shaping machinery, n.e.c.   \n",
       "Secondary Source                                                      NaN   \n",
       "Secondary Source Title                                                NaN   \n",
       "\n",
       "                                                                    16302  \\\n",
       "ID                                                             2016087845   \n",
       "UPA                                                               1127328   \n",
       "EventDate                                                       8/21/2016   \n",
       "Employer                                              U.S. POSTAL SERVICE   \n",
       "Address1                                      2310 Manard Jackson Parkway   \n",
       "Address2                                                              NaN   \n",
       "City                                                              ATLANTA   \n",
       "State                                                             GEORGIA   \n",
       "Zip                                                               30320.0   \n",
       "Latitude                                                            33.63   \n",
       "Longitude                                                          -84.43   \n",
       "Primary NAICS                                                      491110   \n",
       "Hospitalized                                                          0.0   \n",
       "Amputation                                                            1.0   \n",
       "Inspection                                                      1173599.0   \n",
       "Final Narrative         An employee was removing a guarding panel on a...   \n",
       "Nature                                                               1311   \n",
       "NatureTitle                                                   Amputations   \n",
       "Part of Body                                                         4422   \n",
       "Part of Body Title                                           Fingertip(s)   \n",
       "Event                                                                6233   \n",
       "EventTitle              Struck by object falling from vehicle or machi...   \n",
       "Source                                                               4429   \n",
       "SourceTitle                           Machine and appliance parts, n.e.c.   \n",
       "Secondary Source                                                   3421.0   \n",
       "Secondary Source Title                                     Conveyors-belt   \n",
       "\n",
       "                                                                    63543  \\\n",
       "ID                                                             2021032524   \n",
       "UPA                                                               1750067   \n",
       "EventDate                                                       3/25/2021   \n",
       "Employer                                  Manitowoc Tool & Machining, LLC   \n",
       "Address1                                               4211 Clipper Drive   \n",
       "Address2                                                              NaN   \n",
       "City                                                            MANITOWOC   \n",
       "State                                                                  WI   \n",
       "Zip                                                               54220.0   \n",
       "Latitude                                                            44.08   \n",
       "Longitude                                                           -87.7   \n",
       "Primary NAICS                                                      332710   \n",
       "Hospitalized                                                          0.0   \n",
       "Amputation                                                            1.0   \n",
       "Inspection                                                      1522204.0   \n",
       "Final Narrative         An employee was clamping an aluminum part into...   \n",
       "Nature                                                               1311   \n",
       "NatureTitle                                                   Amputations   \n",
       "Part of Body                                                         4422   \n",
       "Part of Body Title                                           Fingertip(s)   \n",
       "Event                                                                6412   \n",
       "EventTitle              Caught in running equipment or machinery durin...   \n",
       "Source                                                               3551   \n",
       "SourceTitle                                           Metalworking lathes   \n",
       "Secondary Source                                                      NaN   \n",
       "Secondary Source Title                                                NaN   \n",
       "\n",
       "                                                                    62113  \\\n",
       "ID                                                             2021010782   \n",
       "UPA                                                               1727196   \n",
       "EventDate                                                       1/28/2021   \n",
       "Employer                                                     Carvana, LLC   \n",
       "Address1                                              2150 NW 117th Place   \n",
       "Address2                                                              NaN   \n",
       "City                                                                MIAMI   \n",
       "State                                                                  FL   \n",
       "Zip                                                               33182.0   \n",
       "Latitude                                                            25.79   \n",
       "Longitude                                                          -80.38   \n",
       "Primary NAICS                                                      441120   \n",
       "Hospitalized                                                          1.0   \n",
       "Amputation                                                            0.0   \n",
       "Inspection                                                            NaN   \n",
       "Final Narrative         An employee reset a breaker after a power outa...   \n",
       "Nature                                                                193   \n",
       "NatureTitle                               Electrocutions, electric shocks   \n",
       "Part of Body                                                            6   \n",
       "Part of Body Title                                           BODY SYSTEMS   \n",
       "Event                                                                5110   \n",
       "EventTitle                    Direct exposure to electricity, unspecified   \n",
       "Source                                                               4417   \n",
       "SourceTitle                                 Switchboards, switches, fuses   \n",
       "Secondary Source                                                      NaN   \n",
       "Secondary Source Title                                                NaN   \n",
       "\n",
       "                                                                    52859  \n",
       "ID                                                             2020010288  \n",
       "UPA                                                               1533211  \n",
       "EventDate                                                       1/10/2020  \n",
       "Employer                                                   DEWITT COMPANY  \n",
       "Address1                                           905 SOUTH KINGSHIGHWAY  \n",
       "Address2                                                              NaN  \n",
       "City                                                             SIKESTON  \n",
       "State                                                            MISSOURI  \n",
       "Zip                                                               63801.0  \n",
       "Latitude                                                            36.88  \n",
       "Longitude                                                          -89.59  \n",
       "Primary NAICS                                                      313312  \n",
       "Hospitalized                                                          1.0  \n",
       "Amputation                                                            0.0  \n",
       "Inspection                                                      1456080.0  \n",
       "Final Narrative         An employee was preparing the dock plate for a...  \n",
       "Nature                                                                111  \n",
       "NatureTitle                                                     Fractures  \n",
       "Part of Body                                                          510  \n",
       "Part of Body Title                                    Leg(s), unspecified  \n",
       "Event                                                                6220  \n",
       "EventTitle              Struck by rolling object or equipment-other th...  \n",
       "Source                                                               2133  \n",
       "SourceTitle                            Reels, rolls, spools, coils, cones  \n",
       "Secondary Source                                                      NaN  \n",
       "Secondary Source Title                                                NaN  "
      ]
     },
     "execution_count": 4,
     "metadata": {},
     "output_type": "execute_result"
    }
   ],
   "source": [
    "# sample 5 rows of the data\n",
    "# using transporse to make it easier to read\n",
    "df.sample(5).T"
   ]
  },
  {
   "cell_type": "markdown",
   "id": "31a73a04",
   "metadata": {},
   "source": [
    "Observations:\n",
    "\n",
    "1. There are 14 numerical variables: `ID`, `UPA`, `Zip`, `Latitude`, `Longitude`, `Primary NAICS`, `Hospitalized`, `Amputation`, `Inspection`, `Nature`, `Part of Body`, `Event`, `Source`, and `Secondary Source`\n",
    "2. `Hospitalized` and `Amputation` seem have two distinct values/binary (0,1) -> we will check it later\n",
    "3. No obvious defect on the data (column name vs its entries)\n",
    "4. `Primary NAICS` represents industry type, based on the NAICS code\n",
    "5. `Nature`, `Part of Body`, `Event`, `Source`, and `Secondary Source` represent the type of each, which the 'title' is clarified in the next column\n",
    "6. `State` does not have a similar format, some are written in full and some written into 2-letters"
   ]
  },
  {
   "cell_type": "markdown",
   "id": "8a949293",
   "metadata": {},
   "source": [
    "## General Information and Missing Values"
   ]
  },
  {
   "cell_type": "code",
   "execution_count": 5,
   "id": "2c345e19",
   "metadata": {},
   "outputs": [
    {
     "data": {
      "text/plain": [
       "(74880, 26)"
      ]
     },
     "execution_count": 5,
     "metadata": {},
     "output_type": "execute_result"
    }
   ],
   "source": [
    "df.shape"
   ]
  },
  {
   "cell_type": "code",
   "execution_count": 6,
   "id": "300ac294",
   "metadata": {
    "scrolled": false
   },
   "outputs": [
    {
     "name": "stdout",
     "output_type": "stream",
     "text": [
      "<class 'pandas.core.frame.DataFrame'>\n",
      "RangeIndex: 74880 entries, 0 to 74879\n",
      "Data columns (total 26 columns):\n",
      " #   Column                  Non-Null Count  Dtype  \n",
      "---  ------                  --------------  -----  \n",
      " 0   ID                      74880 non-null  int64  \n",
      " 1   UPA                     74880 non-null  int64  \n",
      " 2   EventDate               74880 non-null  object \n",
      " 3   Employer                74880 non-null  object \n",
      " 4   Address1                74863 non-null  object \n",
      " 5   Address2                6819 non-null   object \n",
      " 6   City                    74864 non-null  object \n",
      " 7   State                   74880 non-null  object \n",
      " 8   Zip                     74857 non-null  float64\n",
      " 9   Latitude                74823 non-null  float64\n",
      " 10  Longitude               74823 non-null  float64\n",
      " 11  Primary NAICS           74878 non-null  object \n",
      " 12  Hospitalized            74880 non-null  float64\n",
      " 13  Amputation              74874 non-null  float64\n",
      " 14  Inspection              25107 non-null  float64\n",
      " 15  Final Narrative         74880 non-null  object \n",
      " 16  Nature                  74880 non-null  int64  \n",
      " 17  NatureTitle             74880 non-null  object \n",
      " 18  Part of Body            74880 non-null  int64  \n",
      " 19  Part of Body Title      74880 non-null  object \n",
      " 20  Event                   74880 non-null  int64  \n",
      " 21  EventTitle              74880 non-null  object \n",
      " 22  Source                  74880 non-null  int64  \n",
      " 23  SourceTitle             74880 non-null  object \n",
      " 24  Secondary Source        26923 non-null  float64\n",
      " 25  Secondary Source Title  26923 non-null  object \n",
      "dtypes: float64(7), int64(6), object(13)\n",
      "memory usage: 14.9+ MB\n"
     ]
    }
   ],
   "source": [
    "df.info()"
   ]
  },
  {
   "cell_type": "code",
   "execution_count": 7,
   "id": "cc950207",
   "metadata": {},
   "outputs": [
    {
     "data": {
      "text/plain": [
       "ID                            0\n",
       "UPA                           0\n",
       "EventDate                     0\n",
       "Employer                      0\n",
       "Address1                     17\n",
       "Address2                  68061\n",
       "City                         16\n",
       "State                         0\n",
       "Zip                          23\n",
       "Latitude                     57\n",
       "Longitude                    57\n",
       "Primary NAICS                 2\n",
       "Hospitalized                  0\n",
       "Amputation                    6\n",
       "Inspection                49773\n",
       "Final Narrative               0\n",
       "Nature                        0\n",
       "NatureTitle                   0\n",
       "Part of Body                  0\n",
       "Part of Body Title            0\n",
       "Event                         0\n",
       "EventTitle                    0\n",
       "Source                        0\n",
       "SourceTitle                   0\n",
       "Secondary Source          47957\n",
       "Secondary Source Title    47957\n",
       "dtype: int64"
      ]
     },
     "execution_count": 7,
     "metadata": {},
     "output_type": "execute_result"
    }
   ],
   "source": [
    "df.isnull().sum()"
   ]
  },
  {
   "cell_type": "markdown",
   "id": "b1c0dc9e",
   "metadata": {},
   "source": [
    "Observations:\n",
    "\n",
    "1. The data contains 26 columns and 74880 rows\n",
    "2. No obvious defect on the data (column name vs its entries and datatypes), except for dates, we will convert it to datetime later\n",
    "3. There are some missing values, but we will decide later what to do with the missing values"
   ]
  },
  {
   "cell_type": "markdown",
   "id": "36005268",
   "metadata": {},
   "source": [
    "# Data Cleaning and Pre-processing"
   ]
  },
  {
   "cell_type": "markdown",
   "id": "39216b36",
   "metadata": {},
   "source": [
    "## Filtering the Data"
   ]
  },
  {
   "cell_type": "markdown",
   "id": "78e36d74",
   "metadata": {},
   "source": [
    "1. We only wanted to see the data coming from construction industry. The NAICS code of construction industry begins with 23, thus we will filter the data that has NAICS code begin with 23\n",
    "2. We will only use `ID`, `EventDate`, `Primary NAICS`, `Hospitalized`, `Amputation`, `EventTitle`, and `SourceTitle`for analysis"
   ]
  },
  {
   "cell_type": "code",
   "execution_count": 8,
   "id": "e08569fc",
   "metadata": {},
   "outputs": [],
   "source": [
    "# rename some columns name so all have similar format (only the used ones)\n",
    "df = df.rename(columns={'Primary NAICS':'NAICS', \n",
    "                        'Final Narrative':'FinalNarrative'})"
   ]
  },
  {
   "cell_type": "code",
   "execution_count": 9,
   "id": "3c141094",
   "metadata": {},
   "outputs": [
    {
     "data": {
      "text/html": [
       "<div>\n",
       "<style scoped>\n",
       "    .dataframe tbody tr th:only-of-type {\n",
       "        vertical-align: middle;\n",
       "    }\n",
       "\n",
       "    .dataframe tbody tr th {\n",
       "        vertical-align: top;\n",
       "    }\n",
       "\n",
       "    .dataframe thead th {\n",
       "        text-align: right;\n",
       "    }\n",
       "</style>\n",
       "<table border=\"1\" class=\"dataframe\">\n",
       "  <thead>\n",
       "    <tr style=\"text-align: right;\">\n",
       "      <th></th>\n",
       "      <th>ID</th>\n",
       "      <th>EventDate</th>\n",
       "      <th>NAICS</th>\n",
       "      <th>Hospitalized</th>\n",
       "      <th>Amputation</th>\n",
       "      <th>EventTitle</th>\n",
       "      <th>SourceTitle</th>\n",
       "    </tr>\n",
       "  </thead>\n",
       "  <tbody>\n",
       "    <tr>\n",
       "      <th>0</th>\n",
       "      <td>2015010029</td>\n",
       "      <td>1/2/2015</td>\n",
       "      <td>238110</td>\n",
       "      <td>1.0</td>\n",
       "      <td>0.0</td>\n",
       "      <td>Struck by object or equipment dropped by other...</td>\n",
       "      <td>Structural elements, n.e.c.</td>\n",
       "    </tr>\n",
       "    <tr>\n",
       "      <th>1</th>\n",
       "      <td>2015010037</td>\n",
       "      <td>1/2/2015</td>\n",
       "      <td>237990</td>\n",
       "      <td>1.0</td>\n",
       "      <td>0.0</td>\n",
       "      <td>Stepped on object</td>\n",
       "      <td>Nails, brads, tacks, nuts, bolts, washers</td>\n",
       "    </tr>\n",
       "    <tr>\n",
       "      <th>2</th>\n",
       "      <td>2015010043</td>\n",
       "      <td>1/3/2015</td>\n",
       "      <td>238990</td>\n",
       "      <td>1.0</td>\n",
       "      <td>0.0</td>\n",
       "      <td>Struck by object falling from vehicle or machi...</td>\n",
       "      <td>Bars, rods, reinforcing bar (rebar)</td>\n",
       "    </tr>\n",
       "    <tr>\n",
       "      <th>3</th>\n",
       "      <td>2015010068</td>\n",
       "      <td>1/5/2015</td>\n",
       "      <td>237120</td>\n",
       "      <td>1.0</td>\n",
       "      <td>0.0</td>\n",
       "      <td>Other jump to lower level less than 6 feet</td>\n",
       "      <td>Trailers</td>\n",
       "    </tr>\n",
       "    <tr>\n",
       "      <th>4</th>\n",
       "      <td>2015010073</td>\n",
       "      <td>1/5/2015</td>\n",
       "      <td>238290</td>\n",
       "      <td>1.0</td>\n",
       "      <td>0.0</td>\n",
       "      <td>Other fall to lower level 11 to 15 feet</td>\n",
       "      <td>Ladders, unspecified</td>\n",
       "    </tr>\n",
       "  </tbody>\n",
       "</table>\n",
       "</div>"
      ],
      "text/plain": [
       "           ID EventDate   NAICS  Hospitalized  Amputation  \\\n",
       "0  2015010029  1/2/2015  238110           1.0         0.0   \n",
       "1  2015010037  1/2/2015  237990           1.0         0.0   \n",
       "2  2015010043  1/3/2015  238990           1.0         0.0   \n",
       "3  2015010068  1/5/2015  237120           1.0         0.0   \n",
       "4  2015010073  1/5/2015  238290           1.0         0.0   \n",
       "\n",
       "                                          EventTitle  \\\n",
       "0  Struck by object or equipment dropped by other...   \n",
       "1                                 Stepped on object    \n",
       "2  Struck by object falling from vehicle or machi...   \n",
       "3         Other jump to lower level less than 6 feet   \n",
       "4           Other fall to lower level 11 to 15 feet    \n",
       "\n",
       "                                 SourceTitle  \n",
       "0                Structural elements, n.e.c.  \n",
       "1  Nails, brads, tacks, nuts, bolts, washers  \n",
       "2        Bars, rods, reinforcing bar (rebar)  \n",
       "3                                   Trailers  \n",
       "4                       Ladders, unspecified  "
      ]
     },
     "execution_count": 9,
     "metadata": {},
     "output_type": "execute_result"
    }
   ],
   "source": [
    "q = \"\"\"\n",
    "select \n",
    "  ID,\n",
    "  EventDate,\n",
    "  NAICS,\n",
    "  Hospitalized,\n",
    "  Amputation,\n",
    "  EventTitle,\n",
    "  SourceTitle\n",
    "from df \n",
    "where NAICS like '23%'\n",
    "\"\"\"\n",
    "\n",
    "df_cons = sqldf(q)\n",
    "df_cons.head()"
   ]
  },
  {
   "cell_type": "markdown",
   "id": "5e51c06b",
   "metadata": {},
   "source": [
    "## General Information and Missing Values (Part 2, Filtered One)"
   ]
  },
  {
   "cell_type": "code",
   "execution_count": 10,
   "id": "2f5d4492",
   "metadata": {},
   "outputs": [
    {
     "data": {
      "text/plain": [
       "(13376, 7)"
      ]
     },
     "execution_count": 10,
     "metadata": {},
     "output_type": "execute_result"
    }
   ],
   "source": [
    "df_cons.shape"
   ]
  },
  {
   "cell_type": "code",
   "execution_count": 11,
   "id": "a3d9bd79",
   "metadata": {},
   "outputs": [
    {
     "name": "stdout",
     "output_type": "stream",
     "text": [
      "<class 'pandas.core.frame.DataFrame'>\n",
      "RangeIndex: 13376 entries, 0 to 13375\n",
      "Data columns (total 7 columns):\n",
      " #   Column        Non-Null Count  Dtype  \n",
      "---  ------        --------------  -----  \n",
      " 0   ID            13376 non-null  int64  \n",
      " 1   EventDate     13376 non-null  object \n",
      " 2   NAICS         13376 non-null  object \n",
      " 3   Hospitalized  13376 non-null  float64\n",
      " 4   Amputation    13374 non-null  float64\n",
      " 5   EventTitle    13376 non-null  object \n",
      " 6   SourceTitle   13376 non-null  object \n",
      "dtypes: float64(2), int64(1), object(4)\n",
      "memory usage: 731.6+ KB\n"
     ]
    }
   ],
   "source": [
    "df_cons.info()"
   ]
  },
  {
   "cell_type": "code",
   "execution_count": 12,
   "id": "532f579d",
   "metadata": {},
   "outputs": [
    {
     "data": {
      "text/plain": [
       "ID              0\n",
       "EventDate       0\n",
       "NAICS           0\n",
       "Hospitalized    0\n",
       "Amputation      2\n",
       "EventTitle      0\n",
       "SourceTitle     0\n",
       "dtype: int64"
      ]
     },
     "execution_count": 12,
     "metadata": {},
     "output_type": "execute_result"
    }
   ],
   "source": [
    "# check missing value\n",
    "df_cons.isnull().sum()"
   ]
  },
  {
   "cell_type": "markdown",
   "id": "5dc2b375",
   "metadata": {},
   "source": [
    "There are 2 missing values in the filtered data"
   ]
  },
  {
   "cell_type": "code",
   "execution_count": 13,
   "id": "0e885c0f",
   "metadata": {},
   "outputs": [],
   "source": [
    "# drop missing value\n",
    "df_cons.dropna(inplace=True)"
   ]
  },
  {
   "cell_type": "markdown",
   "id": "d98f10e3",
   "metadata": {},
   "source": [
    "## Duplicated Data"
   ]
  },
  {
   "cell_type": "code",
   "execution_count": 14,
   "id": "575c5292",
   "metadata": {},
   "outputs": [
    {
     "data": {
      "text/plain": [
       "0"
      ]
     },
     "execution_count": 14,
     "metadata": {},
     "output_type": "execute_result"
    }
   ],
   "source": [
    "# check duplicated data\n",
    "df_cons.duplicated().sum()"
   ]
  },
  {
   "cell_type": "markdown",
   "id": "a6e5db4b",
   "metadata": {},
   "source": [
    "No duplicated data :)"
   ]
  },
  {
   "cell_type": "markdown",
   "id": "fab7e935",
   "metadata": {},
   "source": [
    "## Unique Values"
   ]
  },
  {
   "cell_type": "code",
   "execution_count": 15,
   "id": "dcb5e0f1",
   "metadata": {},
   "outputs": [
    {
     "data": {
      "text/plain": [
       "ID              13374\n",
       "EventDate        2415\n",
       "NAICS              45\n",
       "Hospitalized        5\n",
       "Amputation          3\n",
       "EventTitle        257\n",
       "SourceTitle       614\n",
       "dtype: int64"
      ]
     },
     "execution_count": 15,
     "metadata": {},
     "output_type": "execute_result"
    }
   ],
   "source": [
    "# check unique value\n",
    "df_cons.nunique()"
   ]
  },
  {
   "cell_type": "markdown",
   "id": "9fd05b04",
   "metadata": {},
   "source": [
    "Observations:\n",
    "\n",
    "1. `ID` are unique to each rows\n",
    "2. `Hospitalized` and `Amputation` are not binary"
   ]
  },
  {
   "cell_type": "markdown",
   "id": "6423b4ea",
   "metadata": {},
   "source": [
    "## Change `EventDate` to datetime"
   ]
  },
  {
   "cell_type": "code",
   "execution_count": 16,
   "id": "a6b682ac",
   "metadata": {},
   "outputs": [],
   "source": [
    "df_cons['EventDate'] = pd.to_datetime(df_cons['EventDate'])"
   ]
  },
  {
   "cell_type": "markdown",
   "id": "01a168d5",
   "metadata": {},
   "source": [
    "## Check `Hospitalized`"
   ]
  },
  {
   "cell_type": "code",
   "execution_count": 17,
   "id": "bd364fed",
   "metadata": {},
   "outputs": [
    {
     "data": {
      "text/plain": [
       "array([1., 0., 2., 3., 4.])"
      ]
     },
     "execution_count": 17,
     "metadata": {},
     "output_type": "execute_result"
    }
   ],
   "source": [
    "# check unique value of 'Hospitalized'\n",
    "df_cons['Hospitalized'].unique()"
   ]
  },
  {
   "cell_type": "code",
   "execution_count": 18,
   "id": "3976b89c",
   "metadata": {},
   "outputs": [
    {
     "data": {
      "text/html": [
       "<div>\n",
       "<style scoped>\n",
       "    .dataframe tbody tr th:only-of-type {\n",
       "        vertical-align: middle;\n",
       "    }\n",
       "\n",
       "    .dataframe tbody tr th {\n",
       "        vertical-align: top;\n",
       "    }\n",
       "\n",
       "    .dataframe thead th {\n",
       "        text-align: right;\n",
       "    }\n",
       "</style>\n",
       "<table border=\"1\" class=\"dataframe\">\n",
       "  <thead>\n",
       "    <tr style=\"text-align: right;\">\n",
       "      <th></th>\n",
       "      <th>Hospitalized</th>\n",
       "      <th>FinalNarrative</th>\n",
       "    </tr>\n",
       "  </thead>\n",
       "  <tbody>\n",
       "    <tr>\n",
       "      <th>3300</th>\n",
       "      <td>0.0</td>\n",
       "      <td>An employee was drilling on an electrical panel using a cordless Dewalt 20 volt drill when her glove got caught.  Her hand placement was directly behind the 8\" drill bit.  The grove somehow wrapped into the bit and pulled it through.</td>\n",
       "    </tr>\n",
       "    <tr>\n",
       "      <th>50583</th>\n",
       "      <td>0.0</td>\n",
       "      <td>An employee was loading ham into a machine. His left index fingertip was amputated by the machine's product metal detector.</td>\n",
       "    </tr>\n",
       "    <tr>\n",
       "      <th>45343</th>\n",
       "      <td>0.0</td>\n",
       "      <td>An employee was cutting conduit with a battery-operated band saw. The band saw jammed and kicked back amputating the employee's left index finger to the nail bed.</td>\n",
       "    </tr>\n",
       "  </tbody>\n",
       "</table>\n",
       "</div>"
      ],
      "text/plain": [
       "       Hospitalized  \\\n",
       "3300            0.0   \n",
       "50583           0.0   \n",
       "45343           0.0   \n",
       "\n",
       "                                                                                                                                                                                                                                  FinalNarrative  \n",
       "3300   An employee was drilling on an electrical panel using a cordless Dewalt 20 volt drill when her glove got caught.  Her hand placement was directly behind the 8\" drill bit.  The grove somehow wrapped into the bit and pulled it through.  \n",
       "50583                                                                                                                An employee was loading ham into a machine. His left index fingertip was amputated by the machine's product metal detector.  \n",
       "45343                                                                         An employee was cutting conduit with a battery-operated band saw. The band saw jammed and kicked back amputating the employee's left index finger to the nail bed.  "
      ]
     },
     "metadata": {},
     "output_type": "display_data"
    },
    {
     "data": {
      "text/html": [
       "<div>\n",
       "<style scoped>\n",
       "    .dataframe tbody tr th:only-of-type {\n",
       "        vertical-align: middle;\n",
       "    }\n",
       "\n",
       "    .dataframe tbody tr th {\n",
       "        vertical-align: top;\n",
       "    }\n",
       "\n",
       "    .dataframe thead th {\n",
       "        text-align: right;\n",
       "    }\n",
       "</style>\n",
       "<table border=\"1\" class=\"dataframe\">\n",
       "  <thead>\n",
       "    <tr style=\"text-align: right;\">\n",
       "      <th></th>\n",
       "      <th>Hospitalized</th>\n",
       "      <th>FinalNarrative</th>\n",
       "    </tr>\n",
       "  </thead>\n",
       "  <tbody>\n",
       "    <tr>\n",
       "      <th>46910</th>\n",
       "      <td>1.0</td>\n",
       "      <td>An employee was working outside most of the day landscaping, tilling, and laying out straw roll. He was driving a tractor tilling the ground when he started to feel exhausted, was excessively sweating, and felt like he was overheating. He went inside to drink some water. He felt nauseous and threw up. He was hospitalized with heat exhaustion, an acute kidney injury, and dehydration.</td>\n",
       "    </tr>\n",
       "    <tr>\n",
       "      <th>5313</th>\n",
       "      <td>1.0</td>\n",
       "      <td>An employee fell from a ladder while inspecting the roof.</td>\n",
       "    </tr>\n",
       "    <tr>\n",
       "      <th>9762</th>\n",
       "      <td>1.0</td>\n",
       "      <td>An employee was walking down a wet grassy incline towards the parking lot, slipped, and fell fracturing the left ankle.</td>\n",
       "    </tr>\n",
       "  </tbody>\n",
       "</table>\n",
       "</div>"
      ],
      "text/plain": [
       "       Hospitalized  \\\n",
       "46910           1.0   \n",
       "5313            1.0   \n",
       "9762            1.0   \n",
       "\n",
       "                                                                                                                                                                                                                                                                                                                                                                                          FinalNarrative  \n",
       "46910  An employee was working outside most of the day landscaping, tilling, and laying out straw roll. He was driving a tractor tilling the ground when he started to feel exhausted, was excessively sweating, and felt like he was overheating. He went inside to drink some water. He felt nauseous and threw up. He was hospitalized with heat exhaustion, an acute kidney injury, and dehydration.  \n",
       "5313                                                                                                                                                                                                                                                                                                                                           An employee fell from a ladder while inspecting the roof.  \n",
       "9762                                                                                                                                                                                                                                                                             An employee was walking down a wet grassy incline towards the parking lot, slipped, and fell fracturing the left ankle.  "
      ]
     },
     "metadata": {},
     "output_type": "display_data"
    },
    {
     "data": {
      "text/html": [
       "<div>\n",
       "<style scoped>\n",
       "    .dataframe tbody tr th:only-of-type {\n",
       "        vertical-align: middle;\n",
       "    }\n",
       "\n",
       "    .dataframe tbody tr th {\n",
       "        vertical-align: top;\n",
       "    }\n",
       "\n",
       "    .dataframe thead th {\n",
       "        text-align: right;\n",
       "    }\n",
       "</style>\n",
       "<table border=\"1\" class=\"dataframe\">\n",
       "  <thead>\n",
       "    <tr style=\"text-align: right;\">\n",
       "      <th></th>\n",
       "      <th>Hospitalized</th>\n",
       "      <th>FinalNarrative</th>\n",
       "    </tr>\n",
       "  </thead>\n",
       "  <tbody>\n",
       "    <tr>\n",
       "      <th>49250</th>\n",
       "      <td>4.0</td>\n",
       "      <td>Four employee were pouring a 320\" copper stock.  A hose failed which caused the ram of the casting unit to drop during the pouring process. The falling of this ram, which was controlled by the caster, allowed molten copper to come in contact with steam inside the pit that is filled with water. This caused a violent reaction/explosion. All four employees received burns to their arms, body, and face when they were sprayed with molten copper.</td>\n",
       "    </tr>\n",
       "  </tbody>\n",
       "</table>\n",
       "</div>"
      ],
      "text/plain": [
       "       Hospitalized  \\\n",
       "49250           4.0   \n",
       "\n",
       "                                                                                                                                                                                                                                                                                                                                                                                                                                                    FinalNarrative  \n",
       "49250  Four employee were pouring a 320\" copper stock.  A hose failed which caused the ram of the casting unit to drop during the pouring process. The falling of this ram, which was controlled by the caster, allowed molten copper to come in contact with steam inside the pit that is filled with water. This caused a violent reaction/explosion. All four employees received burns to their arms, body, and face when they were sprayed with molten copper.  "
      ]
     },
     "metadata": {},
     "output_type": "display_data"
    }
   ],
   "source": [
    "# check the differences between each values\n",
    "with pd.option_context('display.max_colwidth', None):\n",
    "     display(df[['Hospitalized','FinalNarrative']][df['Hospitalized']==0].sample(3))\n",
    "     display(df[['Hospitalized','FinalNarrative']][df['Hospitalized']==1].sample(3))\n",
    "     display(df[['Hospitalized','FinalNarrative']][df['Hospitalized']==4].sample())"
   ]
  },
  {
   "cell_type": "markdown",
   "id": "b07b15a2",
   "metadata": {},
   "source": [
    "From the data shown above, it is clear that `Hospitalized` define the number of how many employees are hospitalized because of the incident"
   ]
  },
  {
   "cell_type": "markdown",
   "id": "5c3b462c",
   "metadata": {},
   "source": [
    "## Check `Amputation`"
   ]
  },
  {
   "cell_type": "code",
   "execution_count": 19,
   "id": "8651b0b4",
   "metadata": {},
   "outputs": [
    {
     "data": {
      "text/plain": [
       "array([0., 1., 2.])"
      ]
     },
     "execution_count": 19,
     "metadata": {},
     "output_type": "execute_result"
    }
   ],
   "source": [
    "# check unique value of 'Amputation'\n",
    "df_cons['Amputation'].unique()"
   ]
  },
  {
   "cell_type": "code",
   "execution_count": 20,
   "id": "8b788b6a",
   "metadata": {},
   "outputs": [
    {
     "data": {
      "text/html": [
       "<div>\n",
       "<style scoped>\n",
       "    .dataframe tbody tr th:only-of-type {\n",
       "        vertical-align: middle;\n",
       "    }\n",
       "\n",
       "    .dataframe tbody tr th {\n",
       "        vertical-align: top;\n",
       "    }\n",
       "\n",
       "    .dataframe thead th {\n",
       "        text-align: right;\n",
       "    }\n",
       "</style>\n",
       "<table border=\"1\" class=\"dataframe\">\n",
       "  <thead>\n",
       "    <tr style=\"text-align: right;\">\n",
       "      <th></th>\n",
       "      <th>Amputation</th>\n",
       "      <th>FinalNarrative</th>\n",
       "    </tr>\n",
       "  </thead>\n",
       "  <tbody>\n",
       "    <tr>\n",
       "      <th>68050</th>\n",
       "      <td>0.0</td>\n",
       "      <td>An employee was walking from her car to a building entrance. She tripped on a pallet and fell, suffering a fractured and dislocated shoulder.</td>\n",
       "    </tr>\n",
       "    <tr>\n",
       "      <th>523</th>\n",
       "      <td>0.0</td>\n",
       "      <td>Employee was loading a commercial chain link fence approximately 45' X 6', 400 to 500 pounds, onto a flatbed of a Dodge 350 truck. The employee fell from the edge of the flatbed to the ground on his lower back and hit his head. The employee hurt his back and fractured his skull but remained conscious.</td>\n",
       "    </tr>\n",
       "    <tr>\n",
       "      <th>17577</th>\n",
       "      <td>0.0</td>\n",
       "      <td>While unpacking boxes of newly received fabric, an employee tripped and fell on a packaging strap, fracturing the left hip and requiring surgery.</td>\n",
       "    </tr>\n",
       "  </tbody>\n",
       "</table>\n",
       "</div>"
      ],
      "text/plain": [
       "       Amputation  \\\n",
       "68050         0.0   \n",
       "523           0.0   \n",
       "17577         0.0   \n",
       "\n",
       "                                                                                                                                                                                                                                                                                                       FinalNarrative  \n",
       "68050                                                                                                                                                                   An employee was walking from her car to a building entrance. She tripped on a pallet and fell, suffering a fractured and dislocated shoulder.  \n",
       "523    Employee was loading a commercial chain link fence approximately 45' X 6', 400 to 500 pounds, onto a flatbed of a Dodge 350 truck. The employee fell from the edge of the flatbed to the ground on his lower back and hit his head. The employee hurt his back and fractured his skull but remained conscious.  \n",
       "17577                                                                                                                                                               While unpacking boxes of newly received fabric, an employee tripped and fell on a packaging strap, fracturing the left hip and requiring surgery.  "
      ]
     },
     "metadata": {},
     "output_type": "display_data"
    },
    {
     "data": {
      "text/html": [
       "<div>\n",
       "<style scoped>\n",
       "    .dataframe tbody tr th:only-of-type {\n",
       "        vertical-align: middle;\n",
       "    }\n",
       "\n",
       "    .dataframe tbody tr th {\n",
       "        vertical-align: top;\n",
       "    }\n",
       "\n",
       "    .dataframe thead th {\n",
       "        text-align: right;\n",
       "    }\n",
       "</style>\n",
       "<table border=\"1\" class=\"dataframe\">\n",
       "  <thead>\n",
       "    <tr style=\"text-align: right;\">\n",
       "      <th></th>\n",
       "      <th>Amputation</th>\n",
       "      <th>FinalNarrative</th>\n",
       "    </tr>\n",
       "  </thead>\n",
       "  <tbody>\n",
       "    <tr>\n",
       "      <th>43006</th>\n",
       "      <td>1.0</td>\n",
       "      <td>An employee was changing a cylinder on a printing press. The employee's left index finger was caught in the hoist used to change the cylinder, causing an amputation to the fingertip.</td>\n",
       "    </tr>\n",
       "    <tr>\n",
       "      <th>16290</th>\n",
       "      <td>1.0</td>\n",
       "      <td>An employee was using a knife to cut chicken when the knife cut his finger, resulting in the amputation of his left index fingertip (no bone loss).</td>\n",
       "    </tr>\n",
       "    <tr>\n",
       "      <th>51278</th>\n",
       "      <td>1.0</td>\n",
       "      <td>An employee was replacing the rubber gasket on a dredge boat's discharge pipe. The dredge boat was moving with the waves, which pushed the dredge pipe into the pontoon of the boat. The employee was holding the end of the dredge pipe when it struck the pontoon of the boat. The employee's right index finger was caught between the end of the pipe and the pontoon, resulting in a fingertip amputation.</td>\n",
       "    </tr>\n",
       "  </tbody>\n",
       "</table>\n",
       "</div>"
      ],
      "text/plain": [
       "       Amputation  \\\n",
       "43006         1.0   \n",
       "16290         1.0   \n",
       "51278         1.0   \n",
       "\n",
       "                                                                                                                                                                                                                                                                                                                                                                                                        FinalNarrative  \n",
       "43006                                                                                                                                                                                                                           An employee was changing a cylinder on a printing press. The employee's left index finger was caught in the hoist used to change the cylinder, causing an amputation to the fingertip.  \n",
       "16290                                                                                                                                                                                                                                                              An employee was using a knife to cut chicken when the knife cut his finger, resulting in the amputation of his left index fingertip (no bone loss).  \n",
       "51278  An employee was replacing the rubber gasket on a dredge boat's discharge pipe. The dredge boat was moving with the waves, which pushed the dredge pipe into the pontoon of the boat. The employee was holding the end of the dredge pipe when it struck the pontoon of the boat. The employee's right index finger was caught between the end of the pipe and the pontoon, resulting in a fingertip amputation.  "
      ]
     },
     "metadata": {},
     "output_type": "display_data"
    },
    {
     "data": {
      "text/html": [
       "<div>\n",
       "<style scoped>\n",
       "    .dataframe tbody tr th:only-of-type {\n",
       "        vertical-align: middle;\n",
       "    }\n",
       "\n",
       "    .dataframe tbody tr th {\n",
       "        vertical-align: top;\n",
       "    }\n",
       "\n",
       "    .dataframe thead th {\n",
       "        text-align: right;\n",
       "    }\n",
       "</style>\n",
       "<table border=\"1\" class=\"dataframe\">\n",
       "  <thead>\n",
       "    <tr style=\"text-align: right;\">\n",
       "      <th></th>\n",
       "      <th>Amputation</th>\n",
       "      <th>FinalNarrative</th>\n",
       "    </tr>\n",
       "  </thead>\n",
       "  <tbody>\n",
       "    <tr>\n",
       "      <th>822</th>\n",
       "      <td>2.0</td>\n",
       "      <td>A worker operating a skid-steer loader amputated the first finger on the right hand and the fourth finger on the left hand when they were crushed between the skid-steer and a dumpster.</td>\n",
       "    </tr>\n",
       "    <tr>\n",
       "      <th>36781</th>\n",
       "      <td>2.0</td>\n",
       "      <td>On 7/26/2018, an employee's finger was caught in an auger, resulting in a right middle finger amputation at the first digit. On 7/28/2018, an employee's fingers were caught in a belt and pulley powered by an electric motor, resulting in an amputation of the left index and middle fingers at the second knuckle. This record contains two separate events that were reported simultaneously to OSHA by the employer. These events are captured as one report.</td>\n",
       "    </tr>\n",
       "    <tr>\n",
       "      <th>5658</th>\n",
       "      <td>2.0</td>\n",
       "      <td>Two employees operating a meat slicer inside the kitchen area lacerated their fingertips requiring amputation.</td>\n",
       "    </tr>\n",
       "  </tbody>\n",
       "</table>\n",
       "</div>"
      ],
      "text/plain": [
       "       Amputation  \\\n",
       "822           2.0   \n",
       "36781         2.0   \n",
       "5658          2.0   \n",
       "\n",
       "                                                                                                                                                                                                                                                                                                                                                                                                                                                            FinalNarrative  \n",
       "822                                                                                                                                                                                                                                                                               A worker operating a skid-steer loader amputated the first finger on the right hand and the fourth finger on the left hand when they were crushed between the skid-steer and a dumpster.  \n",
       "36781  On 7/26/2018, an employee's finger was caught in an auger, resulting in a right middle finger amputation at the first digit. On 7/28/2018, an employee's fingers were caught in a belt and pulley powered by an electric motor, resulting in an amputation of the left index and middle fingers at the second knuckle. This record contains two separate events that were reported simultaneously to OSHA by the employer. These events are captured as one report.  \n",
       "5658                                                                                                                                                                                                                                                                                                                                                        Two employees operating a meat slicer inside the kitchen area lacerated their fingertips requiring amputation.  "
      ]
     },
     "metadata": {},
     "output_type": "display_data"
    }
   ],
   "source": [
    "# check the differences between each values\n",
    "with pd.option_context('display.max_colwidth', None):\n",
    "     display(df[['Amputation','FinalNarrative']][df['Amputation']==0].sample(3))\n",
    "     display(df[['Amputation','FinalNarrative']][df['Amputation']==1].sample(3))\n",
    "     display(df[['Amputation','FinalNarrative']][df['Amputation']==2].sample(3))"
   ]
  },
  {
   "cell_type": "markdown",
   "id": "d69bcc34",
   "metadata": {},
   "source": [
    "1. `Amputation` = 0 clearly shows that no one amputated\n",
    "2. `Amputation` = 1 and `Amputation` = 2 seem to have no differences, they specify the number of body parts or employees amputated and how the incident happened but we cannot see any noticeable differences between them.\n",
    "\n",
    "We will replace `Amputation`; 0 to 'No', 1 and 2 to 'Yes'"
   ]
  },
  {
   "cell_type": "code",
   "execution_count": 21,
   "id": "85fc135b",
   "metadata": {},
   "outputs": [
    {
     "data": {
      "text/plain": [
       "array(['No', 'Yes'], dtype=object)"
      ]
     },
     "execution_count": 21,
     "metadata": {},
     "output_type": "execute_result"
    }
   ],
   "source": [
    "# replace 1 and 2 to yes and 0 to no\n",
    "df_cons['Amputation'] = df_cons['Amputation'].replace([0, 1, 2], ['No','Yes','Yes'])\n",
    "df_cons['Amputation'].unique()"
   ]
  },
  {
   "cell_type": "markdown",
   "id": "e77f7071",
   "metadata": {},
   "source": [
    "## Mapping `EventTitle` to General Event/Hazard Type"
   ]
  },
  {
   "cell_type": "code",
   "execution_count": 22,
   "id": "932d89c3",
   "metadata": {
    "collapsed": true
   },
   "outputs": [
    {
     "data": {
      "text/plain": [
       "['Other fall to lower level 11 to 15 feet ',\n",
       " 'Fall on same level due to slipping ',\n",
       " 'Other fall to lower level less than 6 feet',\n",
       " 'Other fall to lower level 6 to 10 feet',\n",
       " 'Fall to lower level, unspecified',\n",
       " 'Fall, slip, trip, unspecified ',\n",
       " 'Fall on same level, n.e.c. ',\n",
       " 'Other fall to lower level, unspecified',\n",
       " 'Fall through surface or existing opening 16 to 20 feet',\n",
       " 'Fall through surface or existing opening 21 to 25 feet ',\n",
       " 'Fall through surface or existing opening 11 to 15 feet ',\n",
       " 'Fall through surface or existing opening 6 to 10 feet',\n",
       " 'Other fall to lower level 21 to 25 feet ',\n",
       " 'Other fall to lower level 16 to 20 feet',\n",
       " 'Other fall to lower level 26 to 30 feet',\n",
       " 'Fall on same level due to tripping on uneven surface',\n",
       " 'Fall from collapsing structure or equipment 6 to 10 feet',\n",
       " 'Fall through surface or existing opening, unspecified',\n",
       " 'Slip without fall, unspecified',\n",
       " 'Fall from collapsing structure or equipment 16 to 20 feet',\n",
       " 'Fall from collapsing structure or equipment, unspecified',\n",
       " 'Fall from collapsing structure or equipment 11 to 15 feet ',\n",
       " 'Fall through surface or existing opening more than 30 feet',\n",
       " 'Fall on same level, unspecified',\n",
       " 'Fall on same level due to tripping, unspecified',\n",
       " 'Fall or jump from vehicle in normal operation, roadway',\n",
       " 'Slip on substance without fall',\n",
       " 'Trip on uneven surface without fall',\n",
       " 'Other fall to lower level more than 30 feet',\n",
       " 'Fall or jump curtailed by personal fall arrest system ',\n",
       " 'Fall on same level due to tripping over an object ',\n",
       " 'Fall through surface or existing opening 26 to 30 feet',\n",
       " 'Fall from collapsing structure or equipment more than 30 feet',\n",
       " 'Fall or jump from vehicle in normal operation, nonroadway',\n",
       " 'Slip or trip without fall, n.e.c.',\n",
       " 'Fall from collapsing structure or equipment less than 6 feet',\n",
       " 'Fall from collapsing structure or equipment 26 to 30 feet',\n",
       " 'Fall or jump from water vehicle',\n",
       " 'Trip from stepping into a hole without fall ',\n",
       " 'Fall onto or against object on same level, n.e.c.',\n",
       " 'Slip without fall, n.e.c. ',\n",
       " 'Fall on same level due to tripping, n.e.c.',\n",
       " 'Fall, slip, trip, n.e.c.',\n",
       " 'Trip over an object without fall',\n",
       " 'Slip or trip without fall, unspecified',\n",
       " 'Fall on same level while climbing stairs, steps, or curbs',\n",
       " 'Fall through surface or existing opening less than 6 feet',\n",
       " 'Boarding, alighting-excluding slip, trip, fall-single episode',\n",
       " 'Trip without fall, unspecified',\n",
       " 'Fall from collapsing structure or equipment 21 to 25 feet ',\n",
       " 'Fall on same level due to tripping over self',\n",
       " 'Trip over self without fall',\n",
       " 'Fall on water vehicle',\n",
       " 'Fall while sitting',\n",
       " 'Slip on vehicle without fall-nontransport',\n",
       " 'Fall from pedal cycle',\n",
       " 'Other fall to lower level 11 to 15 feet',\n",
       " 'Fall from collapsing structure or equipment 11 to 15 feet',\n",
       " 'Fall on same level, n.e.c.']"
      ]
     },
     "execution_count": 22,
     "metadata": {},
     "output_type": "execute_result"
    }
   ],
   "source": [
    "# Falls, Slips, Trips\n",
    "\n",
    "fst = df_cons['EventTitle'][(~df_cons['EventTitle'].str.contains('struck|swing',case=False)) &\n",
    "                            (df_cons['EventTitle'].str.contains('fall|slip|trip',case=False))].drop_duplicates().to_list()\n",
    "    \n",
    "#fst = df_cons[['EventTitle','ID']][(~df_cons['EventTitle'].str.contains('struck|swing',case=False)) &\n",
    "                            #(df_cons['EventTitle'].str.contains('fall|slip|trip',case=False))].groupby('EventTitle')['ID'].count().sort_values(ascending=False).reset_index()\n",
    "fst"
   ]
  },
  {
   "cell_type": "code",
   "execution_count": 23,
   "id": "03e612c6",
   "metadata": {
    "collapsed": true
   },
   "outputs": [
    {
     "data": {
      "text/plain": [
       "['Struck by object or equipment dropped by other person',\n",
       " 'Struck by object falling from vehicle or machinery-other than vehicle part',\n",
       " 'Struck by falling object or equipment, n.e.c.',\n",
       " 'Struck by discharged object or substance',\n",
       " 'Struck against moving part of machinery or equipment',\n",
       " 'Struck by rolling object or equipment-other than powered vehicle, unspecified',\n",
       " 'Pedestrian struck by vehicle in nonroadway area, unspecified',\n",
       " 'Struck by powered vehicle-nontransport, unspecified',\n",
       " 'Struck against stationary object or equipment, n.e.c.',\n",
       " 'Struck by object or equipment, unspecified',\n",
       " 'Struck by dislodged flying object, particle',\n",
       " 'Struck by discharged or flying object, n.e.c.',\n",
       " 'Struck by swinging or slipping object, other than handheld, n.e.c.',\n",
       " 'Struck by falling part of powered vehicle still attached',\n",
       " 'Struck by falling object or equipment, unspecified',\n",
       " 'Pedestrian struck by vehicle backing up in nonroadway area',\n",
       " 'Struck, caught, or crushed in other collapsing structure or equipment',\n",
       " 'Pedestrian struck by forward-moving vehicle in work zone ',\n",
       " 'Struck by or caught in swinging door or gate',\n",
       " 'Struck against object or equipment, unspecified',\n",
       " 'Struck by swinging part of powered vehicle',\n",
       " 'Pedestrian struck by vehicle in work zone, unspecified',\n",
       " 'Struck against stationary object or equipment, unspecified',\n",
       " 'Struck by object or equipment dropped by injured worker',\n",
       " 'Struck by powered vehicle-nontransport, n.e.c.',\n",
       " 'Struck by object or equipment rolling freely',\n",
       " 'Struck or run over by rolling powered vehicle',\n",
       " 'Fall or jump from and struck by same vehicle in normal operation, nonroadway',\n",
       " 'Struck by shifting load during transport, nonroadway',\n",
       " 'Pedestrian struck by forward-moving vehicle in nonroadway area',\n",
       " 'Struck by object or equipment, n.e.c.',\n",
       " 'Struck bump, hole, or rough terrain in road surface',\n",
       " 'Pedestrian struck by forward-moving vehicle on side of road',\n",
       " 'Vehicle struck object or animal on side of roadway',\n",
       " 'Struck by rolling object or equipment-other than powered vehicle, n.e.c.',\n",
       " 'Pedestrian struck by forward-moving vehicle in roadway',\n",
       " 'Pedestrian struck by vehicle in nonroadway area, n.e.c.',\n",
       " 'Struck against object or equipment while moving it',\n",
       " 'Struck against stationary object or equipment while rising',\n",
       " 'Struck by powered vehicle tipping over-nontransport',\n",
       " 'Struck by swinging or slipping object, other than handheld, unspecified  ',\n",
       " 'Pedestrian struck by vehicle propelled by another vehicle in work zone',\n",
       " 'Pedestrian struck by vehicle backing up in work zone ',\n",
       " 'Pedestrian struck by vehicle propelled by another vehicle in  nonroadway area',\n",
       " 'Struck by rolling object or equipment being pushed by injured worker',\n",
       " 'Pedestrian struck by vehicle on side of road, unspecified',\n",
       " 'Struck by thrown object-unintentional injury',\n",
       " 'Pedestrian struck by vehicle in roadway, unspecified',\n",
       " 'Vehicle struck object or animal in roadway',\n",
       " 'Pedestrian struck by vehicle in work zone, n.e.c.',\n",
       " 'Pedestrian struck by vehicle backing up in roadway',\n",
       " 'Struck by other falling powered vehicle',\n",
       " 'Struck, caught, or crushed in collapsing structure, equipment, or material, n.e.c.',\n",
       " 'Struck bump, hole, rough terrain on driving surface, nonroadway',\n",
       " 'Struck, caught, or crushed in collapsing structure, equipment, or material, unspecified',\n",
       " 'Struck by discharged or flying object, unspecified',\n",
       " 'Struck by shifting load during transport, roadway',\n",
       " 'Pedestrian struck by vehicle propelled by another vehicle in roadway',\n",
       " 'Fall or jump from and struck by same vehicle in normal operation, roadway',\n",
       " 'Pedestrian struck by vehicle backing up on side of road',\n",
       " 'Pedestrian struck by vehicle propelled by another vehicle on side of road',\n",
       " 'Struck against moving object or equipment, n.e.c.',\n",
       " 'Struck by rolling object or equipment being pushed by another  person']"
      ]
     },
     "execution_count": 23,
     "metadata": {},
     "output_type": "execute_result"
    }
   ],
   "source": [
    "# Struck by / struck against\n",
    "\n",
    "struck = df_cons['EventTitle'][(df_cons['EventTitle'].str.contains('struck',case=False))].drop_duplicates().to_list()\n",
    "\n",
    "struck"
   ]
  },
  {
   "cell_type": "code",
   "execution_count": 24,
   "id": "f1a2b78a",
   "metadata": {
    "collapsed": true
   },
   "outputs": [
    {
     "data": {
      "text/plain": [
       "['Compressed or pinched by shifting objects or equipment',\n",
       " 'Caught in or compressed by equipment or objects, n.e.c.',\n",
       " 'Caught in or compressed by equipment or objects, unspecified',\n",
       " 'Compressed or pinched between two stationary objects',\n",
       " 'Caught in running equipment or machinery during regular operation',\n",
       " 'Caught in running equipment or machinery during maintenance, cleaning ',\n",
       " 'Part of occupant’s body caught between vehicle and other object in nonroadway transport incident',\n",
       " 'Caught between rolling powered vehicle and other object',\n",
       " 'Caught in running equipment or machinery, unspecified',\n",
       " 'Caught in running equipment or machinery, n.e.c.',\n",
       " 'Caught in running equipment or machinery during maintenance, cleaning']"
      ]
     },
     "execution_count": 24,
     "metadata": {},
     "output_type": "execute_result"
    }
   ],
   "source": [
    "# Caught in / caught between / compressed\n",
    "\n",
    "caught = df_cons['EventTitle'][(~df_cons['EventTitle'].str.contains('struck',case=False)) &\n",
    "                               (df_cons['EventTitle'].str.contains('compressed|caught',case=False))].drop_duplicates().to_list()\n",
    "\n",
    "caught"
   ]
  },
  {
   "cell_type": "code",
   "execution_count": 25,
   "id": "20459450",
   "metadata": {
    "collapsed": true
   },
   "outputs": [
    {
     "data": {
      "text/plain": [
       "['Direct exposure to electricity, greater than 220 volts',\n",
       " 'Direct exposure to electricity, unspecified',\n",
       " 'Indirect exposure to electricity, greater than 220 volts',\n",
       " 'Exposure to electricity, unspecified',\n",
       " 'Direct exposure to electricity, 220 volts or less',\n",
       " 'Indirect exposure to electricity, unspecified',\n",
       " 'Indirect exposure to electricity, 220 volts or less']"
      ]
     },
     "execution_count": 25,
     "metadata": {},
     "output_type": "execute_result"
    }
   ],
   "source": [
    "# Electrocution\n",
    "\n",
    "electro = df_cons['EventTitle'][(df_cons['EventTitle'].str.contains('electricity',case=False))].drop_duplicates().to_list()\n",
    "\n",
    "electro"
   ]
  },
  {
   "cell_type": "code",
   "execution_count": 26,
   "id": "11c8772d",
   "metadata": {},
   "outputs": [],
   "source": [
    "# mapping 'EventTitle' to a new column 'HazardType'\n",
    "def map(row):\n",
    "    if row['EventTitle'] in fst:\n",
    "        val = 'Falls, Slips, Trips'\n",
    "    elif row['EventTitle']  in struck:\n",
    "        val = 'Struck By/Struck Against'\n",
    "    elif row['EventTitle']  in caught:\n",
    "        val = 'Caught In / Caught Between / Compressed'\n",
    "    elif row['EventTitle']  in electro:\n",
    "        val = 'Electrocution'\n",
    "    else:\n",
    "        val = 'Other'\n",
    "    return val\n",
    "\n",
    "df_cons['HazardType'] = df_cons.apply(map, axis=1)"
   ]
  },
  {
   "cell_type": "code",
   "execution_count": 27,
   "id": "e4e1d866",
   "metadata": {},
   "outputs": [
    {
     "data": {
      "text/html": [
       "<div>\n",
       "<style scoped>\n",
       "    .dataframe tbody tr th:only-of-type {\n",
       "        vertical-align: middle;\n",
       "    }\n",
       "\n",
       "    .dataframe tbody tr th {\n",
       "        vertical-align: top;\n",
       "    }\n",
       "\n",
       "    .dataframe thead th {\n",
       "        text-align: right;\n",
       "    }\n",
       "</style>\n",
       "<table border=\"1\" class=\"dataframe\">\n",
       "  <thead>\n",
       "    <tr style=\"text-align: right;\">\n",
       "      <th></th>\n",
       "      <th>EventTitle</th>\n",
       "      <th>HazardType</th>\n",
       "    </tr>\n",
       "  </thead>\n",
       "  <tbody>\n",
       "    <tr>\n",
       "      <th>11560</th>\n",
       "      <td>Direct exposure to electricity, unspecified</td>\n",
       "      <td>Electrocution</td>\n",
       "    </tr>\n",
       "    <tr>\n",
       "      <th>3256</th>\n",
       "      <td>Pedestrian struck by forward-moving vehicle in...</td>\n",
       "      <td>Struck By/Struck Against</td>\n",
       "    </tr>\n",
       "    <tr>\n",
       "      <th>446</th>\n",
       "      <td>Struck by dislodged flying object, particle</td>\n",
       "      <td>Struck By/Struck Against</td>\n",
       "    </tr>\n",
       "    <tr>\n",
       "      <th>295</th>\n",
       "      <td>Other fall to lower level 11 to 15 feet</td>\n",
       "      <td>Falls, Slips, Trips</td>\n",
       "    </tr>\n",
       "    <tr>\n",
       "      <th>7682</th>\n",
       "      <td>Fall on same level due to tripping over an obj...</td>\n",
       "      <td>Falls, Slips, Trips</td>\n",
       "    </tr>\n",
       "  </tbody>\n",
       "</table>\n",
       "</div>"
      ],
      "text/plain": [
       "                                              EventTitle  \\\n",
       "11560        Direct exposure to electricity, unspecified   \n",
       "3256   Pedestrian struck by forward-moving vehicle in...   \n",
       "446          Struck by dislodged flying object, particle   \n",
       "295             Other fall to lower level 11 to 15 feet    \n",
       "7682   Fall on same level due to tripping over an obj...   \n",
       "\n",
       "                     HazardType  \n",
       "11560             Electrocution  \n",
       "3256   Struck By/Struck Against  \n",
       "446    Struck By/Struck Against  \n",
       "295         Falls, Slips, Trips  \n",
       "7682        Falls, Slips, Trips  "
      ]
     },
     "execution_count": 27,
     "metadata": {},
     "output_type": "execute_result"
    }
   ],
   "source": [
    "# check sample\n",
    "df_cons[['EventTitle','HazardType']].sample(5)"
   ]
  },
  {
   "cell_type": "markdown",
   "id": "564b339e",
   "metadata": {},
   "source": [
    "## Statistical Summary"
   ]
  },
  {
   "cell_type": "code",
   "execution_count": 28,
   "id": "330d79c6",
   "metadata": {},
   "outputs": [],
   "source": [
    "# group column names based on type\n",
    "\n",
    "categoricals = df_cons.select_dtypes(include=['object']).columns.tolist()\n",
    "\n",
    "numericals = ['Hospitalized']"
   ]
  },
  {
   "cell_type": "code",
   "execution_count": 29,
   "id": "c8aed5e3",
   "metadata": {},
   "outputs": [
    {
     "data": {
      "text/html": [
       "<div>\n",
       "<style scoped>\n",
       "    .dataframe tbody tr th:only-of-type {\n",
       "        vertical-align: middle;\n",
       "    }\n",
       "\n",
       "    .dataframe tbody tr th {\n",
       "        vertical-align: top;\n",
       "    }\n",
       "\n",
       "    .dataframe thead th {\n",
       "        text-align: right;\n",
       "    }\n",
       "</style>\n",
       "<table border=\"1\" class=\"dataframe\">\n",
       "  <thead>\n",
       "    <tr style=\"text-align: right;\">\n",
       "      <th></th>\n",
       "      <th>Hospitalized</th>\n",
       "    </tr>\n",
       "  </thead>\n",
       "  <tbody>\n",
       "    <tr>\n",
       "      <th>count</th>\n",
       "      <td>13374.000000</td>\n",
       "    </tr>\n",
       "    <tr>\n",
       "      <th>mean</th>\n",
       "      <td>0.907283</td>\n",
       "    </tr>\n",
       "    <tr>\n",
       "      <th>std</th>\n",
       "      <td>0.333013</td>\n",
       "    </tr>\n",
       "    <tr>\n",
       "      <th>min</th>\n",
       "      <td>0.000000</td>\n",
       "    </tr>\n",
       "    <tr>\n",
       "      <th>25%</th>\n",
       "      <td>1.000000</td>\n",
       "    </tr>\n",
       "    <tr>\n",
       "      <th>50%</th>\n",
       "      <td>1.000000</td>\n",
       "    </tr>\n",
       "    <tr>\n",
       "      <th>75%</th>\n",
       "      <td>1.000000</td>\n",
       "    </tr>\n",
       "    <tr>\n",
       "      <th>max</th>\n",
       "      <td>4.000000</td>\n",
       "    </tr>\n",
       "  </tbody>\n",
       "</table>\n",
       "</div>"
      ],
      "text/plain": [
       "       Hospitalized\n",
       "count  13374.000000\n",
       "mean       0.907283\n",
       "std        0.333013\n",
       "min        0.000000\n",
       "25%        1.000000\n",
       "50%        1.000000\n",
       "75%        1.000000\n",
       "max        4.000000"
      ]
     },
     "execution_count": 29,
     "metadata": {},
     "output_type": "execute_result"
    }
   ],
   "source": [
    "# numerical statistical summary\n",
    "df_cons[numericals].describe()"
   ]
  },
  {
   "cell_type": "code",
   "execution_count": 30,
   "id": "c3432add",
   "metadata": {},
   "outputs": [
    {
     "data": {
      "text/html": [
       "<div>\n",
       "<style scoped>\n",
       "    .dataframe tbody tr th:only-of-type {\n",
       "        vertical-align: middle;\n",
       "    }\n",
       "\n",
       "    .dataframe tbody tr th {\n",
       "        vertical-align: top;\n",
       "    }\n",
       "\n",
       "    .dataframe thead th {\n",
       "        text-align: right;\n",
       "    }\n",
       "</style>\n",
       "<table border=\"1\" class=\"dataframe\">\n",
       "  <thead>\n",
       "    <tr style=\"text-align: right;\">\n",
       "      <th></th>\n",
       "      <th>count</th>\n",
       "      <th>unique</th>\n",
       "      <th>top</th>\n",
       "      <th>freq</th>\n",
       "    </tr>\n",
       "  </thead>\n",
       "  <tbody>\n",
       "    <tr>\n",
       "      <th>NAICS</th>\n",
       "      <td>13374</td>\n",
       "      <td>45</td>\n",
       "      <td>236220</td>\n",
       "      <td>1400</td>\n",
       "    </tr>\n",
       "    <tr>\n",
       "      <th>Amputation</th>\n",
       "      <td>13374</td>\n",
       "      <td>2</td>\n",
       "      <td>No</td>\n",
       "      <td>11328</td>\n",
       "    </tr>\n",
       "    <tr>\n",
       "      <th>EventTitle</th>\n",
       "      <td>13374</td>\n",
       "      <td>257</td>\n",
       "      <td>Other fall to lower level, unspecified</td>\n",
       "      <td>1484</td>\n",
       "    </tr>\n",
       "    <tr>\n",
       "      <th>SourceTitle</th>\n",
       "      <td>13374</td>\n",
       "      <td>614</td>\n",
       "      <td>Roofs, unspecified</td>\n",
       "      <td>580</td>\n",
       "    </tr>\n",
       "    <tr>\n",
       "      <th>HazardType</th>\n",
       "      <td>13374</td>\n",
       "      <td>5</td>\n",
       "      <td>Falls, Slips, Trips</td>\n",
       "      <td>5399</td>\n",
       "    </tr>\n",
       "  </tbody>\n",
       "</table>\n",
       "</div>"
      ],
      "text/plain": [
       "             count unique                                     top   freq\n",
       "NAICS        13374     45                                  236220   1400\n",
       "Amputation   13374      2                                      No  11328\n",
       "EventTitle   13374    257  Other fall to lower level, unspecified   1484\n",
       "SourceTitle  13374    614                      Roofs, unspecified    580\n",
       "HazardType   13374      5                     Falls, Slips, Trips   5399"
      ]
     },
     "execution_count": 30,
     "metadata": {},
     "output_type": "execute_result"
    }
   ],
   "source": [
    "df_cons[categoricals].describe().T"
   ]
  },
  {
   "cell_type": "markdown",
   "id": "c812701b",
   "metadata": {},
   "source": [
    "Observations:\n",
    "\n",
    "1. 1400 events are from industry with NAICS code 236220 (Commercial and Institutional Building Construction)\n",
    "2. ~85% of events do not require the victim to be amputated, but ~37% of events make the victim fracture\n",
    "3. The type of hazard that happens most often (5399) is Falls Slips Trips"
   ]
  },
  {
   "cell_type": "code",
   "execution_count": 31,
   "id": "26a59655",
   "metadata": {
    "scrolled": true
   },
   "outputs": [
    {
     "name": "stdout",
     "output_type": "stream",
     "text": [
      "Value counts for column NAICS:\n",
      "236220    1400\n",
      "238210    1348\n",
      "238160    1101\n",
      "237310    1095\n",
      "238220     988\n",
      "238990     618\n",
      "238120     599\n",
      "238110     576\n",
      "238910     572\n",
      "237110     534\n",
      "236210     505\n",
      "237130     408\n",
      "238310     393\n",
      "237990     376\n",
      "238130     372\n",
      "238140     362\n",
      "237120     361\n",
      "236115     290\n",
      "238320     263\n",
      "238290     232\n",
      "236116     158\n",
      "236118     143\n",
      "238350     135\n",
      "238190     124\n",
      "238390      99\n",
      "238170      90\n",
      "238150      86\n",
      "238330      54\n",
      "238340      27\n",
      "236117      22\n",
      "237210      16\n",
      "23611        9\n",
      "2371         4\n",
      "23622        2\n",
      "23           2\n",
      "238          1\n",
      "23829        1\n",
      "23821        1\n",
      "23899        1\n",
      "23891        1\n",
      "2362         1\n",
      "23811        1\n",
      "2361         1\n",
      "23822        1\n",
      "23713        1\n",
      "Name: NAICS, dtype: int64\n",
      "------------------------------\n",
      "\n",
      "\n",
      "Value counts for column Amputation:\n",
      "No     11328\n",
      "Yes     2046\n",
      "Name: Amputation, dtype: int64\n",
      "------------------------------\n",
      "\n",
      "\n",
      "Value counts for column EventTitle:\n",
      "Other fall to lower level, unspecified                                       1484\n",
      "Compressed or pinched by shifting objects or equipment                        806\n",
      "Other fall to lower level 6 to 10 feet                                        695\n",
      "Injured by slipping or swinging object held by injured worker                 601\n",
      "Other fall to lower level less than 6 feet                                    555\n",
      "                                                                             ... \n",
      "Trip on uneven surface without fall                                             1\n",
      "Pedestrian struck by vehicle propelled by another vehicle in roadway            1\n",
      "Fall or jump from and struck by same vehicle in normal operation, roadway       1\n",
      "Other jump to lower level 16 to 20 feet                                         1\n",
      "Other jump to lower level 21 to 25 feet                                         1\n",
      "Name: EventTitle, Length: 257, dtype: int64\n",
      "------------------------------\n",
      "\n",
      "\n",
      "Value counts for column SourceTitle:\n",
      "Roofs, unspecified                                                         580\n",
      "Nonclassifiable                                                            565\n",
      "Movable ladders, unspecified                                               490\n",
      "Scaffolds-staging, unspecified                                             429\n",
      "Ladders, unspecified                                                       423\n",
      "                                                                          ... \n",
      "Aromatics and hydrocarbon derivatives, except halogenated,  unspecified      1\n",
      "Skidders-cable and grapple                                                   1\n",
      "Computers and peripheral equipment, n.e.c.                                   1\n",
      "Boring handtools-powered, n.e.c                                              1\n",
      "Windmills, wind turbines                                                     1\n",
      "Name: SourceTitle, Length: 614, dtype: int64\n",
      "------------------------------\n",
      "\n",
      "\n",
      "Value counts for column HazardType:\n",
      "Falls, Slips, Trips                        5399\n",
      "Struck By/Struck Against                   3180\n",
      "Other                                      2553\n",
      "Caught In / Caught Between / Compressed    1594\n",
      "Electrocution                               648\n",
      "Name: HazardType, dtype: int64\n",
      "------------------------------\n",
      "\n",
      "\n"
     ]
    }
   ],
   "source": [
    "# frequency details for each column\n",
    "for col in categoricals:\n",
    "  print(f\"Value counts for column {col}:\")\n",
    "  print(df_cons[col].value_counts())\n",
    "  print(\"---\"*10)\n",
    "  print(\"\\n\")"
   ]
  },
  {
   "cell_type": "markdown",
   "id": "932644dc",
   "metadata": {},
   "source": [
    "# Exploratory Analysis"
   ]
  },
  {
   "cell_type": "markdown",
   "id": "4d52a926",
   "metadata": {},
   "source": [
    "## Hazard Type"
   ]
  },
  {
   "cell_type": "code",
   "execution_count": 32,
   "id": "85a9a1aa",
   "metadata": {},
   "outputs": [
    {
     "data": {
      "image/png": "[encoded data removed]",
      "text/plain": [
       "<Figure size 1200x600 with 1 Axes>"
      ]
     },
     "metadata": {},
     "output_type": "display_data"
    }
   ],
   "source": [
    "# frequency\n",
    "plt.figure(figsize=(12, 6))\n",
    "\n",
    "pal = ['#eac759', '#d7dfe6', '#233a49', '#b46857', '#f3aa8b']\n",
    "\n",
    "fig = sns.countplot(x=df_cons['HazardType'], palette=pal)\n",
    "plt.setp(fig.get_xticklabels(), rotation=10, fontsize='small')\n",
    "\n",
    "for p in fig.patches:\n",
    "    fig.annotate(format(p.get_height(), '.0f'), (p.get_x() + p.get_width() / 2., p.get_height()),  \n",
    "                 ha = 'center', va = 'center', xytext = (0,5), textcoords = 'offset points')\n",
    "plt.show()"
   ]
  },
  {
   "cell_type": "code",
   "execution_count": 33,
   "id": "7b649839",
   "metadata": {},
   "outputs": [
    {
     "data": {
      "image/png": "[encoded data removed]",
      "text/plain": [
       "<Figure size 640x480 with 1 Axes>"
      ]
     },
     "metadata": {},
     "output_type": "display_data"
    }
   ],
   "source": [
    "# propotion\n",
    "prcnt_haz = df_cons['HazardType'].value_counts().sort_values(ascending=False) / df_cons['HazardType'].value_counts().sum() * 100\n",
    "plt.pie(prcnt_haz, \n",
    "        labels=prcnt_haz.index,\n",
    "        autopct='%1.0f%%',\n",
    "        startangle=330,\n",
    "        colors=sns.color_palette('blend:#7AB,#EDA'),\n",
    "        explode=[0.1, 0, 0, 0, 0])\n",
    "plt.show()"
   ]
  },
  {
   "cell_type": "markdown",
   "id": "56717152",
   "metadata": {},
   "source": [
    "3 Major hazard type that caused severe injury in the construction industry are: \n",
    "1. Falls, Slips, Trips; \n",
    "2. Struck by/Struck against; \n",
    "3. Caught in-between/Compressed."
   ]
  },
  {
   "cell_type": "markdown",
   "id": "80c57c16",
   "metadata": {},
   "source": [
    "## `Amputation` and `Hospitalized`"
   ]
  },
  {
   "cell_type": "code",
   "execution_count": 34,
   "id": "5aa64f2d",
   "metadata": {},
   "outputs": [
    {
     "data": {
      "image/png": "[encoded data removed]",
      "text/plain": [
       "<Figure size 600x400 with 1 Axes>"
      ]
     },
     "metadata": {},
     "output_type": "display_data"
    }
   ],
   "source": [
    "# count bar for 'Amputation'\n",
    "fig, ax = plt.subplots(figsize=(6, 4))\n",
    "\n",
    "color = ['#d7dfe6', '#233a49', '#b46857', '#3a5870']\n",
    "\n",
    "sns.countplot(x=df_cons['Amputation'], palette=color)\n",
    "ax.set(xlabel='Amputation', ylabel='Total')\n",
    "    \n",
    "for p in ax.patches:\n",
    "    ax.annotate(format(p.get_height(), '.0f'), (p.get_x() + p.get_width() / 2., p.get_height()),  \n",
    "                 ha = 'center', va = 'center', xytext = (0,5), textcoords = 'offset points')"
   ]
  },
  {
   "cell_type": "markdown",
   "id": "63f3c3c5",
   "metadata": {},
   "source": [
    "From 13374 events, most of the events (11790) had 1 person hospitalized and 2046 events had the worker(s) amputated"
   ]
  },
  {
   "cell_type": "code",
   "execution_count": 37,
   "id": "9f0413f7",
   "metadata": {
    "scrolled": true
   },
   "outputs": [
    {
     "data": {
      "text/html": [
       "<div>\n",
       "<style scoped>\n",
       "    .dataframe tbody tr th:only-of-type {\n",
       "        vertical-align: middle;\n",
       "    }\n",
       "\n",
       "    .dataframe tbody tr th {\n",
       "        vertical-align: top;\n",
       "    }\n",
       "\n",
       "    .dataframe thead th {\n",
       "        text-align: right;\n",
       "    }\n",
       "</style>\n",
       "<table border=\"1\" class=\"dataframe\">\n",
       "  <thead>\n",
       "    <tr style=\"text-align: right;\">\n",
       "      <th>Hospitalized</th>\n",
       "      <th>0.0</th>\n",
       "      <th>1.0</th>\n",
       "      <th>2.0</th>\n",
       "      <th>3.0</th>\n",
       "      <th>4.0</th>\n",
       "    </tr>\n",
       "    <tr>\n",
       "      <th>HazardType</th>\n",
       "      <th></th>\n",
       "      <th></th>\n",
       "      <th></th>\n",
       "      <th></th>\n",
       "      <th></th>\n",
       "    </tr>\n",
       "  </thead>\n",
       "  <tbody>\n",
       "    <tr>\n",
       "      <th>Caught In / Caught Between / Compressed</th>\n",
       "      <td>754</td>\n",
       "      <td>839</td>\n",
       "      <td>1</td>\n",
       "      <td>0</td>\n",
       "      <td>0</td>\n",
       "    </tr>\n",
       "    <tr>\n",
       "      <th>Electrocution</th>\n",
       "      <td>1</td>\n",
       "      <td>609</td>\n",
       "      <td>38</td>\n",
       "      <td>0</td>\n",
       "      <td>0</td>\n",
       "    </tr>\n",
       "    <tr>\n",
       "      <th>Falls, Slips, Trips</th>\n",
       "      <td>28</td>\n",
       "      <td>5320</td>\n",
       "      <td>51</td>\n",
       "      <td>0</td>\n",
       "      <td>0</td>\n",
       "    </tr>\n",
       "    <tr>\n",
       "      <th>Other</th>\n",
       "      <td>270</td>\n",
       "      <td>2238</td>\n",
       "      <td>44</td>\n",
       "      <td>1</td>\n",
       "      <td>0</td>\n",
       "    </tr>\n",
       "    <tr>\n",
       "      <th>Struck By/Struck Against</th>\n",
       "      <td>361</td>\n",
       "      <td>2784</td>\n",
       "      <td>33</td>\n",
       "      <td>1</td>\n",
       "      <td>1</td>\n",
       "    </tr>\n",
       "  </tbody>\n",
       "</table>\n",
       "</div>"
      ],
      "text/plain": [
       "Hospitalized                             0.0   1.0  2.0  3.0  4.0\n",
       "HazardType                                                       \n",
       "Caught In / Caught Between / Compressed  754   839    1    0    0\n",
       "Electrocution                              1   609   38    0    0\n",
       "Falls, Slips, Trips                       28  5320   51    0    0\n",
       "Other                                    270  2238   44    1    0\n",
       "Struck By/Struck Against                 361  2784   33    1    1"
      ]
     },
     "execution_count": 37,
     "metadata": {},
     "output_type": "execute_result"
    }
   ],
   "source": [
    "# crosstab `hospitalized`\n",
    "\n",
    "hosp = pd.crosstab(df_cons['HazardType'],\n",
    "                   df_cons['Hospitalized'])\n",
    "hosp"
   ]
  },
  {
   "cell_type": "markdown",
   "id": "fe3230a8",
   "metadata": {},
   "source": [
    "From 5399 cases of Fall Slips Trips, 5402 people were hospitalized. Struck by/against had 2 cases with more than 2 people injured."
   ]
  },
  {
   "cell_type": "code",
   "execution_count": 35,
   "id": "9b8ac422",
   "metadata": {},
   "outputs": [
    {
     "name": "stdout",
     "output_type": "stream",
     "text": [
      "HazardType\n",
      "Caught In / Caught Between / Compressed    1042\n",
      "Electrocution                                11\n",
      "Falls, Slips, Trips                          36\n",
      "Other                                       409\n",
      "Struck By/Struck Against                    548\n",
      "Name: ID, dtype: int64\n",
      "HazardType\n",
      "Caught In / Caught Between / Compressed     552\n",
      "Electrocution                               637\n",
      "Falls, Slips, Trips                        5363\n",
      "Other                                      2144\n",
      "Struck By/Struck Against                   2632\n",
      "Name: ID, dtype: int64\n"
     ]
    }
   ],
   "source": [
    "# amputation per hazard type\n",
    "# cases with amputation\n",
    "amp = df_cons[df_cons['Amputation']=='Yes'].groupby('HazardType')['ID'].count().sort_index()\n",
    "\n",
    "# cases without amputation\n",
    "not_amp = df_cons[df_cons['Amputation']=='No'].groupby('HazardType')['ID'].count().sort_index()\n",
    "\n",
    "print(amp)\n",
    "print(not_amp)"
   ]
  },
  {
   "cell_type": "code",
   "execution_count": 36,
   "id": "0e136412",
   "metadata": {
    "scrolled": false
   },
   "outputs": [
    {
     "data": {
      "image/png": "[encoded data removed]",
      "text/plain": [
       "<Figure size 1200x600 with 1 Axes>"
      ]
     },
     "metadata": {},
     "output_type": "display_data"
    }
   ],
   "source": [
    "# make them into list\n",
    "x = not_amp.index.to_list()\n",
    "yes = amp.values.tolist()\n",
    "no = not_amp.values.tolist()\n",
    "\n",
    "# make stacked bars\n",
    "fig, ax = plt.subplots(figsize=(12, 6))\n",
    "\n",
    "ax1 = plt.bar(x, no, color='#d7dfe6')\n",
    "ax2 = plt.bar(x, yes, bottom=no, color='#233a49')\n",
    "\n",
    "ax.set_xticklabels(x, rotation=10, fontsize='small')\n",
    "\n",
    "labels_legend = ['No', 'Yes']\n",
    "ax.legend(labels=labels_legend)\n",
    "\n",
    "for r1, r2 in zip(ax1, ax2):\n",
    "    h1 = r1.get_height()\n",
    "    h2 = r2.get_height()\n",
    "    plt.text(r1.get_x() + r1.get_width() / 2., h1 / 2., \"%d\" % h1, ha=\"center\", va=\"center\", color=\"black\", fontsize=10,)\n",
    "    plt.text(r2.get_x() + r2.get_width() / 2., h1 + h2 / 2., \"%d\" % h2, ha=\"center\", va=\"center\", color=\"black\", fontsize=10,)\n",
    "    \n",
    "plt.show()"
   ]
  },
  {
   "cell_type": "markdown",
   "id": "dc6455b3",
   "metadata": {},
   "source": [
    "Caught in-between/compressed is the only hazard with the number of cases amputated more than 50% number of their cases. Conversely, falls slips trips had only 36 cases amputated from 5399 cases."
   ]
  },
  {
   "cell_type": "markdown",
   "id": "4d04ac73",
   "metadata": {},
   "source": [
    "Observations conclusions:\n",
    "\n",
    "From 2015 to mid 2022,\n",
    "1. 'Falls Slips Trips' is the most common hazard in construction \n",
    "2. From severe injuries events in construction, 15.3% had the worker(s) amputated and 89% had a minimum of 1 worker hospitalized\n",
    "3. Aside from its high numbers, falls slips trips in construction had only ~0.7% of cases the worker(s) is amputated. Caught in-between/compressed had 65% of cases the worker(s) is amputated\n",
    "\n",
    "These numbers are why the cost of severe injuries and DAFW in construction is high."
   ]
  },
  {
   "cell_type": "markdown",
   "id": "b2971eac",
   "metadata": {},
   "source": [
    "# Falls, Slips, Trips"
   ]
  },
  {
   "cell_type": "markdown",
   "id": "ce2377d2",
   "metadata": {},
   "source": [
    "Based on the data, we know that falls slips trips is the most common hazard in the construction industry. Now let's check further about the details of falls slips trips hazard"
   ]
  },
  {
   "cell_type": "markdown",
   "id": "18b4d50d",
   "metadata": {},
   "source": [
    "## How is the trend of severe injuries caused by Falls, Slips, and Trips every year?"
   ]
  },
  {
   "cell_type": "code",
   "execution_count": 38,
   "id": "b4634d40",
   "metadata": {},
   "outputs": [
    {
     "data": {
      "image/png": "[encoded data removed]",
      "text/plain": [
       "<Figure size 1000x500 with 1 Axes>"
      ]
     },
     "metadata": {},
     "output_type": "display_data"
    }
   ],
   "source": [
    "# make a new column 'Year'\n",
    "df_cons['Year'] = df_cons['EventDate'].dt.to_period('Y')\n",
    "\n",
    "# group the dates by year, excluding 2022 because the data is only until November 2022\n",
    "fallsliptrip = df_cons[(df_cons['HazardType']=='Falls, Slips, Trips') & (df_cons['Year']<'2022')].groupby('Year')\n",
    "\n",
    "# calculate the count of falls slips trips for each year\n",
    "fst_counts = fallsliptrip.size()\n",
    "fst_counts.index = fst_counts.index.astype(str)\n",
    "\n",
    "# line chart\n",
    "plt.figure(figsize=(10, 5))\n",
    "\n",
    "plt.plot(fst_counts.index, fst_counts.values, marker='o')\n",
    "\n",
    "plt.title('Number of Falls Slips Trips Cases by Year')\n",
    "plt.xlabel('Year')\n",
    "plt.ylabel('Total')\n",
    "\n",
    "plt.show()"
   ]
  },
  {
   "cell_type": "code",
   "execution_count": 39,
   "id": "8bbd4064",
   "metadata": {},
   "outputs": [
    {
     "name": "stdout",
     "output_type": "stream",
     "text": [
      "Year\n",
      "2015    39.26\n",
      "2016    40.85\n",
      "2017    40.55\n",
      "2018    39.11\n",
      "2019    38.29\n",
      "2020    40.91\n",
      "2021    42.83\n",
      "dtype: float64\n"
     ]
    }
   ],
   "source": [
    "# proportion of falls, slips, trips cases per year\n",
    "all = df_cons[df_cons['Year']<'2022'].groupby('Year')\n",
    "all_counts = all.size()\n",
    "all_counts.index = all_counts.index.astype(str)\n",
    "\n",
    "fst_prop = round((fst_counts / all_counts * 100),2)\n",
    "print(fst_prop)"
   ]
  },
  {
   "cell_type": "markdown",
   "id": "13798ae5",
   "metadata": {},
   "source": [
    "The number of Fall Slip Trip cases looks decreasing by 2019. This is probably because the number of severe injury cases since 2018 has started to fall, which is good, but the rate of fall slip trip cases in construction has remained at ~40%."
   ]
  },
  {
   "cell_type": "markdown",
   "id": "6b966e66",
   "metadata": {},
   "source": [
    "## What event is the most likely to happen in falls slips trips accidents that cause severe injury?"
   ]
  },
  {
   "cell_type": "code",
   "execution_count": 40,
   "id": "d31b1db3",
   "metadata": {},
   "outputs": [
    {
     "name": "stdout",
     "output_type": "stream",
     "text": [
      "EventTitle\n",
      "Other fall to lower level, unspecified        1484\n",
      "Other fall to lower level 6 to 10 feet         695\n",
      "Other fall to lower level less than 6 feet     555\n",
      "Other fall to lower level 11 to 15 feet        514\n",
      "Other fall to lower level 16 to 20 feet        294\n",
      "Name: HazardType, dtype: int64\n"
     ]
    }
   ],
   "source": [
    "# count events of falls slips trips grouped by 'EventTitle'\n",
    "event = df_cons[df_cons['HazardType']=='Falls, Slips, Trips'].groupby('EventTitle')['HazardType'].count()\n",
    "\n",
    "print(event.sort_values(ascending=False).head())"
   ]
  },
  {
   "cell_type": "markdown",
   "id": "4982b29c",
   "metadata": {},
   "source": [
    "The top 5 events are 'fall to a lower level'. Now let's see how many fall to lower levels are there."
   ]
  },
  {
   "cell_type": "code",
   "execution_count": 41,
   "id": "dcfc96bf",
   "metadata": {},
   "outputs": [
    {
     "name": "stdout",
     "output_type": "stream",
     "text": [
      "Total 'fall to lower level' is 4700. It is 87.05% of all falls slips trips events\n"
     ]
    }
   ],
   "source": [
    "# count 'fall to lower level'\n",
    "## 'fall through surface or existing opening' and 'fall from collapsing structure or equipment' is basically also \n",
    "## fall to lower level, so we will include them\n",
    "\n",
    "lower = event[(event.index.str.contains('fall to lower level|fall through surface or existing opening|fall from collapsing structure or equipment',\n",
    "                                        case=False))].sum()\n",
    "\n",
    "print(f\"Total 'fall to lower level' is {lower}. It is {round((lower/event.values.sum()*100),2)}% of all falls slips trips events\")"
   ]
  },
  {
   "cell_type": "markdown",
   "id": "a1e5d542",
   "metadata": {},
   "source": [
    "That is a really high number! How about fall on the same level?"
   ]
  },
  {
   "cell_type": "code",
   "execution_count": 42,
   "id": "92f38c1a",
   "metadata": {
    "scrolled": true
   },
   "outputs": [
    {
     "name": "stdout",
     "output_type": "stream",
     "text": [
      "Total 'fall on same level' is 466. It is 8.63% of all falls slips trips events\n"
     ]
    }
   ],
   "source": [
    "all_event = event.values.sum()\n",
    "\n",
    "# count 'fall on same level'\n",
    "same = event[event.index.str.contains('fall on same level',case=False)].sum()\n",
    "\n",
    "print(f\"Total 'fall on same level' is {same}. It is {round((same/all_event*100),2)}% of all falls slips trips events\")"
   ]
  },
  {
   "cell_type": "markdown",
   "id": "f49c1067",
   "metadata": {},
   "source": [
    "## Now that we know 'fall to lower level' is the highest number of falls slips trips event that causes severe injury. What are the sources of the events?"
   ]
  },
  {
   "cell_type": "code",
   "execution_count": 43,
   "id": "e53c4953",
   "metadata": {},
   "outputs": [
    {
     "data": {
      "text/plain": [
       "SourceTitle\n",
       "Roofs, unspecified                560\n",
       "Movable ladders, unspecified      469\n",
       "Ladders, unspecified              417\n",
       "Scaffolds-staging, unspecified    394\n",
       "Step ladders                      318\n",
       "Name: HazardType, dtype: int64"
      ]
     },
     "execution_count": 43,
     "metadata": {},
     "output_type": "execute_result"
    }
   ],
   "source": [
    "# sources of fall to lower level events\n",
    "source = df_cons[(df_cons['HazardType']=='Falls, Slips, Trips') & \n",
    "                 (df_cons['EventTitle'].str.contains('fall to lower level|fall through surface or existing opening|fall from collapsing structure or equipment',\n",
    "                                                    case=False))].groupby('SourceTitle')['HazardType'].count()\n",
    "\n",
    "source.sort_values(ascending=False).head()"
   ]
  },
  {
   "cell_type": "markdown",
   "id": "ef3ba3ed",
   "metadata": {},
   "source": [
    "Looks like ladders are the most often. Let's see the proportion."
   ]
  },
  {
   "cell_type": "code",
   "execution_count": 44,
   "id": "b968332b",
   "metadata": {},
   "outputs": [
    {
     "name": "stdout",
     "output_type": "stream",
     "text": [
      "1558 (33.15%) 'fall to lower level' severe injuries are from ladders, \n",
      "809 (17.21%) from roofs, \n",
      "565 (12.02%) from scaffolding or staging,\n",
      "329 (7.0%) from existing openings, and\n",
      "200 (4.26%) from aerial lifts, elevators, and hoists\n"
     ]
    }
   ],
   "source": [
    "all_source = source.values.sum()\n",
    "\n",
    "# count roof\n",
    "roof = source[source.index.str.contains('roof',case=False)].sum()\n",
    "\n",
    "# count scaffolding or staging\n",
    "scaffold = source[source.index.str.contains('scaffold|staging',case=False)].sum()\n",
    "\n",
    "# count ladders\n",
    "ladders = source[source.index.str.contains('ladders',case=False)].sum()\n",
    "\n",
    "# count existing openings\n",
    "openings = source[source.index.str.contains('opening|skylight',case=False)].sum()\n",
    "\n",
    "# count lifts\n",
    "lifts = source[source.index.str.contains('lifts|elevator|hoist',case=False)].sum()\n",
    "\n",
    "print(f\"\"\"{ladders} ({round((ladders/all_source*100),2)}%) 'fall to lower level' severe injuries are from ladders, \n",
    "{roof} ({round((roof/all_source*100),2)}%) from roofs, \n",
    "{scaffold} ({round((scaffold/all_source*100),2)}%) from scaffolding or staging,\n",
    "{openings} ({round((openings/all_source*100),2)}%) from existing openings, and\n",
    "{lifts} ({round((lifts/all_source*100),2)}%) from aerial lifts, elevators, and hoists\"\"\")"
   ]
  },
  {
   "cell_type": "markdown",
   "id": "e334e675",
   "metadata": {},
   "source": [
    "# Conclusions and Recommendations"
   ]
  },
  {
   "cell_type": "markdown",
   "id": "f7691e9f",
   "metadata": {},
   "source": [
    "## Conclusions"
   ]
  },
  {
   "cell_type": "markdown",
   "id": "a239b4ea",
   "metadata": {},
   "source": [
    "1. The most common hazard in construction is Falls, Slips, Trips hazard\n",
    "2. The most common event related to falls, slips, trips is fall to lower level. We could say this is predictable because the activities and tasks in construction involve a lot of work at a height\n",
    "3. 3 top sources of fall to lower level are: ladders (33%), roofs (17%), and scaffolding/staging (12%)\n",
    "4. The high number of falls, slips, trips cases also contributes greatly to the high costs incurred to compensate workers for hospitalization and amputations. Hospitalization and amputation also cause DAFW, thereby reducing the productivity of construction activities and can cause delays in the target"
   ]
  },
  {
   "cell_type": "markdown",
   "id": "ba50b3af",
   "metadata": {},
   "source": [
    "## Recommendations"
   ]
  },
  {
   "cell_type": "markdown",
   "id": "6e59d572",
   "metadata": {},
   "source": [
    "1. Plan the job - employers must plan projects to ensure that the job is done safely\n",
    "2. Training - every worker should be trained on proper set-up and safe use of equipment they use on the job, especially about working at height and falls slips trips hazard\n",
    "3. Improve supervision - employers have to make sure the job requiring ladders and any work in heights is well oversight by HSE Team\n",
    "4. Equipments - every tool and equipment should be inspected, regularly and before use. The equipment like ladders, scaffolds, staging, etc should follow the applicable standard\n",
    "5. PPE and fall protection - always make sure the RIGHT PPE is provided in adequate amount and condition. Also, fall protection must be provided by the employer and erected, maintained, and used with the correct procedure"
   ]
  }
 ],
 "metadata": {
  "kernelspec": {
   "display_name": "Python 3 (ipykernel)",
   "language": "python",
   "name": "python3"
  },
  "language_info": {
   "codemirror_mode": {
    "name": "ipython",
    "version": 3
   },
   "file_extension": ".py",
   "mimetype": "text/x-python",
   "name": "python",
   "nbconvert_exporter": "python",
   "pygments_lexer": "ipython3",
   "version": "3.9.13"
  }
 },
 "nbformat": 4,
 "nbformat_minor": 5
}
